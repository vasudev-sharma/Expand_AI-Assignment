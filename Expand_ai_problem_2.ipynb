{
  "nbformat": 4,
  "nbformat_minor": 0,
  "metadata": {
    "colab": {
      "name": "Expand_ai_problem_2.ipynb",
      "provenance": [],
      "collapsed_sections": [],
      "include_colab_link": true
    },
    "kernelspec": {
      "name": "python3",
      "display_name": "Python 3"
    },
    "language_info": {
      "name": "python"
    },
    "widgets": {
      "application/vnd.jupyter.widget-state+json": {
        "dacf0fd66bc449de85ad9e67d7de1eb5": {
          "model_module": "@jupyter-widgets/controls",
          "model_name": "VBoxModel",
          "state": {
            "_view_name": "VBoxView",
            "_dom_classes": [],
            "_model_name": "VBoxModel",
            "_view_module": "@jupyter-widgets/controls",
            "_model_module_version": "1.5.0",
            "_view_count": null,
            "_view_module_version": "1.5.0",
            "box_style": "",
            "layout": "IPY_MODEL_3524489f5085433a94559b988d06560a",
            "_model_module": "@jupyter-widgets/controls",
            "children": [
              "IPY_MODEL_7f22462d61b247e0890753d919d91f71",
              "IPY_MODEL_75210624dd944555a5ed509a491a1f91"
            ]
          }
        },
        "3524489f5085433a94559b988d06560a": {
          "model_module": "@jupyter-widgets/base",
          "model_name": "LayoutModel",
          "state": {
            "_view_name": "LayoutView",
            "grid_template_rows": null,
            "right": null,
            "justify_content": null,
            "_view_module": "@jupyter-widgets/base",
            "overflow": null,
            "_model_module_version": "1.2.0",
            "_view_count": null,
            "flex_flow": null,
            "width": null,
            "min_width": null,
            "border": null,
            "align_items": null,
            "bottom": null,
            "_model_module": "@jupyter-widgets/base",
            "top": null,
            "grid_column": null,
            "overflow_y": null,
            "overflow_x": null,
            "grid_auto_flow": null,
            "grid_area": null,
            "grid_template_columns": null,
            "flex": null,
            "_model_name": "LayoutModel",
            "justify_items": null,
            "grid_row": null,
            "max_height": null,
            "align_content": null,
            "visibility": null,
            "align_self": null,
            "height": null,
            "min_height": null,
            "padding": null,
            "grid_auto_rows": null,
            "grid_gap": null,
            "max_width": null,
            "order": null,
            "_view_module_version": "1.2.0",
            "grid_template_areas": null,
            "object_position": null,
            "object_fit": null,
            "grid_auto_columns": null,
            "margin": null,
            "display": null,
            "left": null
          }
        },
        "7f22462d61b247e0890753d919d91f71": {
          "model_module": "@jupyter-widgets/controls",
          "model_name": "LabelModel",
          "state": {
            "_view_name": "LabelView",
            "style": "IPY_MODEL_88f85e99fed748c0a3c1bae811288422",
            "_dom_classes": [],
            "description": "",
            "_model_name": "LabelModel",
            "placeholder": "​",
            "_view_module": "@jupyter-widgets/controls",
            "_model_module_version": "1.5.0",
            "value": " 0.73MB of 0.73MB uploaded (0.00MB deduped)\r",
            "_view_count": null,
            "_view_module_version": "1.5.0",
            "description_tooltip": null,
            "_model_module": "@jupyter-widgets/controls",
            "layout": "IPY_MODEL_a08df41ce20040e9a81f47978dbfe29a"
          }
        },
        "75210624dd944555a5ed509a491a1f91": {
          "model_module": "@jupyter-widgets/controls",
          "model_name": "FloatProgressModel",
          "state": {
            "_view_name": "ProgressView",
            "style": "IPY_MODEL_8aac66b0e6f341589795762cc63e4474",
            "_dom_classes": [],
            "description": "",
            "_model_name": "FloatProgressModel",
            "bar_style": "",
            "max": 1,
            "_view_module": "@jupyter-widgets/controls",
            "_model_module_version": "1.5.0",
            "value": 1,
            "_view_count": null,
            "_view_module_version": "1.5.0",
            "orientation": "horizontal",
            "min": 0,
            "description_tooltip": null,
            "_model_module": "@jupyter-widgets/controls",
            "layout": "IPY_MODEL_603e4925824640c79340ac18525c1047"
          }
        },
        "88f85e99fed748c0a3c1bae811288422": {
          "model_module": "@jupyter-widgets/controls",
          "model_name": "DescriptionStyleModel",
          "state": {
            "_view_name": "StyleView",
            "_model_name": "DescriptionStyleModel",
            "description_width": "",
            "_view_module": "@jupyter-widgets/base",
            "_model_module_version": "1.5.0",
            "_view_count": null,
            "_view_module_version": "1.2.0",
            "_model_module": "@jupyter-widgets/controls"
          }
        },
        "a08df41ce20040e9a81f47978dbfe29a": {
          "model_module": "@jupyter-widgets/base",
          "model_name": "LayoutModel",
          "state": {
            "_view_name": "LayoutView",
            "grid_template_rows": null,
            "right": null,
            "justify_content": null,
            "_view_module": "@jupyter-widgets/base",
            "overflow": null,
            "_model_module_version": "1.2.0",
            "_view_count": null,
            "flex_flow": null,
            "width": null,
            "min_width": null,
            "border": null,
            "align_items": null,
            "bottom": null,
            "_model_module": "@jupyter-widgets/base",
            "top": null,
            "grid_column": null,
            "overflow_y": null,
            "overflow_x": null,
            "grid_auto_flow": null,
            "grid_area": null,
            "grid_template_columns": null,
            "flex": null,
            "_model_name": "LayoutModel",
            "justify_items": null,
            "grid_row": null,
            "max_height": null,
            "align_content": null,
            "visibility": null,
            "align_self": null,
            "height": null,
            "min_height": null,
            "padding": null,
            "grid_auto_rows": null,
            "grid_gap": null,
            "max_width": null,
            "order": null,
            "_view_module_version": "1.2.0",
            "grid_template_areas": null,
            "object_position": null,
            "object_fit": null,
            "grid_auto_columns": null,
            "margin": null,
            "display": null,
            "left": null
          }
        },
        "8aac66b0e6f341589795762cc63e4474": {
          "model_module": "@jupyter-widgets/controls",
          "model_name": "ProgressStyleModel",
          "state": {
            "_view_name": "StyleView",
            "_model_name": "ProgressStyleModel",
            "description_width": "",
            "_view_module": "@jupyter-widgets/base",
            "_model_module_version": "1.5.0",
            "_view_count": null,
            "_view_module_version": "1.2.0",
            "bar_color": null,
            "_model_module": "@jupyter-widgets/controls"
          }
        },
        "603e4925824640c79340ac18525c1047": {
          "model_module": "@jupyter-widgets/base",
          "model_name": "LayoutModel",
          "state": {
            "_view_name": "LayoutView",
            "grid_template_rows": null,
            "right": null,
            "justify_content": null,
            "_view_module": "@jupyter-widgets/base",
            "overflow": null,
            "_model_module_version": "1.2.0",
            "_view_count": null,
            "flex_flow": null,
            "width": null,
            "min_width": null,
            "border": null,
            "align_items": null,
            "bottom": null,
            "_model_module": "@jupyter-widgets/base",
            "top": null,
            "grid_column": null,
            "overflow_y": null,
            "overflow_x": null,
            "grid_auto_flow": null,
            "grid_area": null,
            "grid_template_columns": null,
            "flex": null,
            "_model_name": "LayoutModel",
            "justify_items": null,
            "grid_row": null,
            "max_height": null,
            "align_content": null,
            "visibility": null,
            "align_self": null,
            "height": null,
            "min_height": null,
            "padding": null,
            "grid_auto_rows": null,
            "grid_gap": null,
            "max_width": null,
            "order": null,
            "_view_module_version": "1.2.0",
            "grid_template_areas": null,
            "object_position": null,
            "object_fit": null,
            "grid_auto_columns": null,
            "margin": null,
            "display": null,
            "left": null
          }
        }
      }
    },
    "accelerator": "GPU"
  },
  "cells": [
    {
      "cell_type": "markdown",
      "metadata": {
        "id": "view-in-github",
        "colab_type": "text"
      },
      "source": [
        "<a href=\"https://colab.research.google.com/github/vasudev-sharma/Expand_AI-Assignment/blob/master/Expand_ai_problem_2.ipynb\" target=\"_parent\"><img src=\"https://colab.research.google.com/assets/colab-badge.svg\" alt=\"Open In Colab\"/></a>"
      ]
    },
    {
      "cell_type": "code",
      "metadata": {
        "id": "eJ0crgnhJXi9"
      },
      "source": [
        "# Mount the drive on Google Colab"
      ],
      "execution_count": 249,
      "outputs": []
    },
    {
      "cell_type": "code",
      "metadata": {
        "colab": {
          "base_uri": "https://localhost:8080/"
        },
        "id": "MOVzVkus4_D6",
        "outputId": "183e19ed-5863-4fe4-93ec-d200052f99a4"
      },
      "source": [
        "# install weights and biases, and torchkeras library\n",
        "!pip install wandb\n",
        "!pip install torchkeras"
      ],
      "execution_count": 305,
      "outputs": [
        {
          "output_type": "stream",
          "text": [
            "Requirement already satisfied: wandb in /usr/local/lib/python3.7/dist-packages (0.10.32)\n",
            "Requirement already satisfied: sentry-sdk>=0.4.0 in /usr/local/lib/python3.7/dist-packages (from wandb) (1.1.0)\n",
            "Requirement already satisfied: shortuuid>=0.5.0 in /usr/local/lib/python3.7/dist-packages (from wandb) (1.0.1)\n",
            "Requirement already satisfied: docker-pycreds>=0.4.0 in /usr/local/lib/python3.7/dist-packages (from wandb) (0.4.0)\n",
            "Requirement already satisfied: configparser>=3.8.1 in /usr/local/lib/python3.7/dist-packages (from wandb) (5.0.2)\n",
            "Requirement already satisfied: PyYAML in /usr/local/lib/python3.7/dist-packages (from wandb) (5.4.1)\n",
            "Requirement already satisfied: pathtools in /usr/local/lib/python3.7/dist-packages (from wandb) (0.1.2)\n",
            "Requirement already satisfied: python-dateutil>=2.6.1 in /usr/local/lib/python3.7/dist-packages (from wandb) (2.8.1)\n",
            "Requirement already satisfied: protobuf>=3.12.0 in /usr/local/lib/python3.7/dist-packages (from wandb) (3.12.4)\n",
            "Requirement already satisfied: subprocess32>=3.5.3 in /usr/local/lib/python3.7/dist-packages (from wandb) (3.5.4)\n",
            "Requirement already satisfied: six>=1.13.0 in /usr/local/lib/python3.7/dist-packages (from wandb) (1.15.0)\n",
            "Requirement already satisfied: requests<3,>=2.0.0 in /usr/local/lib/python3.7/dist-packages (from wandb) (2.23.0)\n",
            "Requirement already satisfied: psutil>=5.0.0 in /usr/local/lib/python3.7/dist-packages (from wandb) (5.4.8)\n",
            "Requirement already satisfied: Click!=8.0.0,>=7.0 in /usr/local/lib/python3.7/dist-packages (from wandb) (7.1.2)\n",
            "Requirement already satisfied: promise<3,>=2.0 in /usr/local/lib/python3.7/dist-packages (from wandb) (2.3)\n",
            "Requirement already satisfied: GitPython>=1.0.0 in /usr/local/lib/python3.7/dist-packages (from wandb) (3.1.14)\n",
            "Requirement already satisfied: certifi in /usr/local/lib/python3.7/dist-packages (from sentry-sdk>=0.4.0->wandb) (2021.5.30)\n",
            "Requirement already satisfied: urllib3>=1.10.0 in /usr/local/lib/python3.7/dist-packages (from sentry-sdk>=0.4.0->wandb) (1.24.3)\n",
            "Requirement already satisfied: setuptools in /usr/local/lib/python3.7/dist-packages (from protobuf>=3.12.0->wandb) (57.0.0)\n",
            "Requirement already satisfied: idna<3,>=2.5 in /usr/local/lib/python3.7/dist-packages (from requests<3,>=2.0.0->wandb) (2.10)\n",
            "Requirement already satisfied: chardet<4,>=3.0.2 in /usr/local/lib/python3.7/dist-packages (from requests<3,>=2.0.0->wandb) (3.0.4)\n",
            "Requirement already satisfied: gitdb<5,>=4.0.1 in /usr/local/lib/python3.7/dist-packages (from GitPython>=1.0.0->wandb) (4.0.7)\n",
            "Requirement already satisfied: smmap<5,>=3.0.1 in /usr/local/lib/python3.7/dist-packages (from gitdb<5,>=4.0.1->GitPython>=1.0.0->wandb) (4.0.0)\n",
            "Requirement already satisfied: torchkeras in /usr/local/lib/python3.7/dist-packages (2.1.2)\n",
            "Requirement already satisfied: prettytable in /usr/local/lib/python3.7/dist-packages (from torchkeras) (2.1.0)\n",
            "Requirement already satisfied: tqdm in /usr/local/lib/python3.7/dist-packages (from torchkeras) (4.41.1)\n",
            "Requirement already satisfied: pandas in /usr/local/lib/python3.7/dist-packages (from torchkeras) (1.1.5)\n",
            "Requirement already satisfied: pytorch-lightning in /usr/local/lib/python3.7/dist-packages (from torchkeras) (1.3.5)\n",
            "Requirement already satisfied: importlib-metadata; python_version < \"3.8\" in /usr/local/lib/python3.7/dist-packages (from prettytable->torchkeras) (4.5.0)\n",
            "Requirement already satisfied: wcwidth in /usr/local/lib/python3.7/dist-packages (from prettytable->torchkeras) (0.2.5)\n",
            "Requirement already satisfied: pytz>=2017.2 in /usr/local/lib/python3.7/dist-packages (from pandas->torchkeras) (2018.9)\n",
            "Requirement already satisfied: python-dateutil>=2.7.3 in /usr/local/lib/python3.7/dist-packages (from pandas->torchkeras) (2.8.1)\n",
            "Requirement already satisfied: numpy>=1.15.4 in /usr/local/lib/python3.7/dist-packages (from pandas->torchkeras) (1.19.5)\n",
            "Requirement already satisfied: torch>=1.4 in /usr/local/lib/python3.7/dist-packages (from pytorch-lightning->torchkeras) (1.8.1+cu101)\n",
            "Requirement already satisfied: future>=0.17.1 in /usr/local/lib/python3.7/dist-packages (from pytorch-lightning->torchkeras) (0.18.2)\n",
            "Requirement already satisfied: fsspec[http]!=2021.06.0,>=2021.05.0 in /usr/local/lib/python3.7/dist-packages (from pytorch-lightning->torchkeras) (2021.5.0)\n",
            "Requirement already satisfied: torchmetrics>=0.2.0 in /usr/local/lib/python3.7/dist-packages (from pytorch-lightning->torchkeras) (0.3.2)\n",
            "Requirement already satisfied: pyDeprecate==0.3.0 in /usr/local/lib/python3.7/dist-packages (from pytorch-lightning->torchkeras) (0.3.0)\n",
            "Requirement already satisfied: PyYAML<=5.4.1,>=5.1 in /usr/local/lib/python3.7/dist-packages (from pytorch-lightning->torchkeras) (5.4.1)\n",
            "Requirement already satisfied: packaging in /usr/local/lib/python3.7/dist-packages (from pytorch-lightning->torchkeras) (20.9)\n",
            "Requirement already satisfied: tensorboard!=2.5.0,>=2.2.0 in /usr/local/lib/python3.7/dist-packages (from pytorch-lightning->torchkeras) (2.4.1)\n",
            "Requirement already satisfied: typing-extensions>=3.6.4; python_version < \"3.8\" in /usr/local/lib/python3.7/dist-packages (from importlib-metadata; python_version < \"3.8\"->prettytable->torchkeras) (3.7.4.3)\n",
            "Requirement already satisfied: zipp>=0.5 in /usr/local/lib/python3.7/dist-packages (from importlib-metadata; python_version < \"3.8\"->prettytable->torchkeras) (3.4.1)\n",
            "Requirement already satisfied: six>=1.5 in /usr/local/lib/python3.7/dist-packages (from python-dateutil>=2.7.3->pandas->torchkeras) (1.15.0)\n",
            "Requirement already satisfied: requests; extra == \"http\" in /usr/local/lib/python3.7/dist-packages (from fsspec[http]!=2021.06.0,>=2021.05.0->pytorch-lightning->torchkeras) (2.23.0)\n",
            "Requirement already satisfied: aiohttp; extra == \"http\" in /usr/local/lib/python3.7/dist-packages (from fsspec[http]!=2021.06.0,>=2021.05.0->pytorch-lightning->torchkeras) (3.7.4.post0)\n",
            "Requirement already satisfied: pyparsing>=2.0.2 in /usr/local/lib/python3.7/dist-packages (from packaging->pytorch-lightning->torchkeras) (2.4.7)\n",
            "Requirement already satisfied: google-auth-oauthlib<0.5,>=0.4.1 in /usr/local/lib/python3.7/dist-packages (from tensorboard!=2.5.0,>=2.2.0->pytorch-lightning->torchkeras) (0.4.4)\n",
            "Requirement already satisfied: werkzeug>=0.11.15 in /usr/local/lib/python3.7/dist-packages (from tensorboard!=2.5.0,>=2.2.0->pytorch-lightning->torchkeras) (1.0.1)\n",
            "Requirement already satisfied: google-auth<2,>=1.6.3 in /usr/local/lib/python3.7/dist-packages (from tensorboard!=2.5.0,>=2.2.0->pytorch-lightning->torchkeras) (1.31.0)\n",
            "Requirement already satisfied: markdown>=2.6.8 in /usr/local/lib/python3.7/dist-packages (from tensorboard!=2.5.0,>=2.2.0->pytorch-lightning->torchkeras) (3.3.4)\n",
            "Requirement already satisfied: absl-py>=0.4 in /usr/local/lib/python3.7/dist-packages (from tensorboard!=2.5.0,>=2.2.0->pytorch-lightning->torchkeras) (0.12.0)\n",
            "Requirement already satisfied: grpcio>=1.24.3 in /usr/local/lib/python3.7/dist-packages (from tensorboard!=2.5.0,>=2.2.0->pytorch-lightning->torchkeras) (1.34.1)\n",
            "Requirement already satisfied: protobuf>=3.6.0 in /usr/local/lib/python3.7/dist-packages (from tensorboard!=2.5.0,>=2.2.0->pytorch-lightning->torchkeras) (3.12.4)\n",
            "Requirement already satisfied: setuptools>=41.0.0 in /usr/local/lib/python3.7/dist-packages (from tensorboard!=2.5.0,>=2.2.0->pytorch-lightning->torchkeras) (57.0.0)\n",
            "Requirement already satisfied: tensorboard-plugin-wit>=1.6.0 in /usr/local/lib/python3.7/dist-packages (from tensorboard!=2.5.0,>=2.2.0->pytorch-lightning->torchkeras) (1.8.0)\n",
            "Requirement already satisfied: wheel>=0.26; python_version >= \"3\" in /usr/local/lib/python3.7/dist-packages (from tensorboard!=2.5.0,>=2.2.0->pytorch-lightning->torchkeras) (0.36.2)\n",
            "Requirement already satisfied: chardet<4,>=3.0.2 in /usr/local/lib/python3.7/dist-packages (from requests; extra == \"http\"->fsspec[http]!=2021.06.0,>=2021.05.0->pytorch-lightning->torchkeras) (3.0.4)\n",
            "Requirement already satisfied: urllib3!=1.25.0,!=1.25.1,<1.26,>=1.21.1 in /usr/local/lib/python3.7/dist-packages (from requests; extra == \"http\"->fsspec[http]!=2021.06.0,>=2021.05.0->pytorch-lightning->torchkeras) (1.24.3)\n",
            "Requirement already satisfied: idna<3,>=2.5 in /usr/local/lib/python3.7/dist-packages (from requests; extra == \"http\"->fsspec[http]!=2021.06.0,>=2021.05.0->pytorch-lightning->torchkeras) (2.10)\n",
            "Requirement already satisfied: certifi>=2017.4.17 in /usr/local/lib/python3.7/dist-packages (from requests; extra == \"http\"->fsspec[http]!=2021.06.0,>=2021.05.0->pytorch-lightning->torchkeras) (2021.5.30)\n",
            "Requirement already satisfied: async-timeout<4.0,>=3.0 in /usr/local/lib/python3.7/dist-packages (from aiohttp; extra == \"http\"->fsspec[http]!=2021.06.0,>=2021.05.0->pytorch-lightning->torchkeras) (3.0.1)\n",
            "Requirement already satisfied: yarl<2.0,>=1.0 in /usr/local/lib/python3.7/dist-packages (from aiohttp; extra == \"http\"->fsspec[http]!=2021.06.0,>=2021.05.0->pytorch-lightning->torchkeras) (1.6.3)\n",
            "Requirement already satisfied: multidict<7.0,>=4.5 in /usr/local/lib/python3.7/dist-packages (from aiohttp; extra == \"http\"->fsspec[http]!=2021.06.0,>=2021.05.0->pytorch-lightning->torchkeras) (5.1.0)\n",
            "Requirement already satisfied: attrs>=17.3.0 in /usr/local/lib/python3.7/dist-packages (from aiohttp; extra == \"http\"->fsspec[http]!=2021.06.0,>=2021.05.0->pytorch-lightning->torchkeras) (21.2.0)\n",
            "Requirement already satisfied: requests-oauthlib>=0.7.0 in /usr/local/lib/python3.7/dist-packages (from google-auth-oauthlib<0.5,>=0.4.1->tensorboard!=2.5.0,>=2.2.0->pytorch-lightning->torchkeras) (1.3.0)\n",
            "Requirement already satisfied: pyasn1-modules>=0.2.1 in /usr/local/lib/python3.7/dist-packages (from google-auth<2,>=1.6.3->tensorboard!=2.5.0,>=2.2.0->pytorch-lightning->torchkeras) (0.2.8)\n",
            "Requirement already satisfied: rsa<5,>=3.1.4; python_version >= \"3.6\" in /usr/local/lib/python3.7/dist-packages (from google-auth<2,>=1.6.3->tensorboard!=2.5.0,>=2.2.0->pytorch-lightning->torchkeras) (4.7.2)\n",
            "Requirement already satisfied: cachetools<5.0,>=2.0.0 in /usr/local/lib/python3.7/dist-packages (from google-auth<2,>=1.6.3->tensorboard!=2.5.0,>=2.2.0->pytorch-lightning->torchkeras) (4.2.2)\n",
            "Requirement already satisfied: oauthlib>=3.0.0 in /usr/local/lib/python3.7/dist-packages (from requests-oauthlib>=0.7.0->google-auth-oauthlib<0.5,>=0.4.1->tensorboard!=2.5.0,>=2.2.0->pytorch-lightning->torchkeras) (3.1.1)\n",
            "Requirement already satisfied: pyasn1<0.5.0,>=0.4.6 in /usr/local/lib/python3.7/dist-packages (from pyasn1-modules>=0.2.1->google-auth<2,>=1.6.3->tensorboard!=2.5.0,>=2.2.0->pytorch-lightning->torchkeras) (0.4.8)\n"
          ],
          "name": "stdout"
        }
      ]
    },
    {
      "cell_type": "code",
      "metadata": {
        "id": "AlrPIGBWN7KQ"
      },
      "source": [
        "# import libraries\n",
        "import os\n",
        "import math\n",
        "import random\n",
        "import shutil\n",
        "from tqdm import tqdm \n",
        "from pathlib import Path\n",
        "import wandb\n",
        "\n",
        "# import scientific libraries\n",
        "import numpy as np\n",
        "\n",
        "# import pytorch libraries\n",
        "import torch\n",
        "import torch.nn as nn\n",
        "from torch.utils.data import Dataset, DataLoader\n",
        "from torchvision import transforms, datasets\n",
        "import time\n",
        "import torch.nn.functional as F\n",
        "\n"
      ],
      "execution_count": 306,
      "outputs": []
    },
    {
      "cell_type": "code",
      "metadata": {
        "id": "NIMCQ2SEJxwO"
      },
      "source": [
        "# set seed to reproduce results\n",
        "np.random.seed(42)"
      ],
      "execution_count": 307,
      "outputs": []
    },
    {
      "cell_type": "code",
      "metadata": {
        "colab": {
          "base_uri": "https://localhost:8080/"
        },
        "id": "Y75APLCg5OfZ",
        "cellView": "form",
        "outputId": "2b489137-79fe-47da-9584-776f18bf74e5"
      },
      "source": [
        "#@title\n",
        "# initialize wandb for logging\n",
        "!wandb login 202040aaac395bbf5a4a47d433a5335b74b7fb0e"
      ],
      "execution_count": 308,
      "outputs": [
        {
          "output_type": "stream",
          "text": [
            "\u001b[34m\u001b[1mwandb\u001b[0m: Appending key for api.wandb.ai to your netrc file: /root/.netrc\n"
          ],
          "name": "stdout"
        }
      ]
    },
    {
      "cell_type": "code",
      "metadata": {
        "colab": {
          "base_uri": "https://localhost:8080/"
        },
        "id": "Q0Pz5RuLePCF",
        "outputId": "66365842-d214-4d51-99ee-f1121b44ff28"
      },
      "source": [
        "# mounting Google Drive\n",
        "from google.colab import drive\n",
        "drive.mount('/content/drive')"
      ],
      "execution_count": 309,
      "outputs": [
        {
          "output_type": "stream",
          "text": [
            "Drive already mounted at /content/drive; to attempt to forcibly remount, call drive.mount(\"/content/drive\", force_remount=True).\n"
          ],
          "name": "stdout"
        }
      ]
    },
    {
      "cell_type": "code",
      "metadata": {
        "id": "XD0YxvuiN2KN"
      },
      "source": [
        "# path of data\n",
        "data_path = '/content/drive/MyDrive/data/diseases_copy4'\n",
        "CLASSES = [\"COVID\", \"NORMAL\", \"PNEUMONIA\"]\n"
      ],
      "execution_count": 310,
      "outputs": []
    },
    {
      "cell_type": "markdown",
      "metadata": {
        "id": "fwnz76KKrUbL"
      },
      "source": [
        "\n",
        "\n",
        "# DATASET PREPARATION"
      ]
    },
    {
      "cell_type": "code",
      "metadata": {
        "id": "TUQbFG_SRQmk"
      },
      "source": [
        "train_data_path = Path(data_path) / 'train'\n",
        "test_data_path = Path(data_path) / 'test'\n",
        "\n"
      ],
      "execution_count": 311,
      "outputs": []
    },
    {
      "cell_type": "code",
      "metadata": {
        "id": "g1xj_21ZRTa5",
        "colab": {
          "base_uri": "https://localhost:8080/",
          "height": 86
        },
        "outputId": "177558b8-f7ba-401f-dbfc-2c8af9f228f9"
      },
      "source": [
        "# This piece of code is used for problem 2\n",
        "# Randomly sample 20 images from all the three classes for training\n",
        "'''\n",
        "for classes in tqdm(os.listdir(str(train_data_path))):\n",
        "  list_image_per_class = os.listdir(str(train_data_path / classes))\n",
        "  image_keep = random.sample(list_image_per_class, 20) # 20 images for training as given in the problem statement\n",
        "  for image in list_image_per_class:\n",
        "    if image not in image_keep:\n",
        "      try: \n",
        "        os.unlink(str(train_data_path / classes / image))\n",
        "      except Exception as e:\n",
        "        print('Error encountered in removing the images')\n",
        "'''"
      ],
      "execution_count": 312,
      "outputs": [
        {
          "output_type": "execute_result",
          "data": {
            "application/vnd.google.colaboratory.intrinsic+json": {
              "type": "string"
            },
            "text/plain": [
              "\"\\nfor classes in tqdm(os.listdir(str(train_data_path))):\\n  list_image_per_class = os.listdir(str(train_data_path / classes))\\n  image_keep = random.sample(list_image_per_class, 20) # 20 images for training as given in the problem statement\\n  for image in list_image_per_class:\\n    if image not in image_keep:\\n      try: \\n        os.unlink(str(train_data_path / classes / image))\\n      except Exception as e:\\n        print('Error encountered in removing the images')\\n\""
            ]
          },
          "metadata": {
            "tags": []
          },
          "execution_count": 312
        }
      ]
    },
    {
      "cell_type": "code",
      "metadata": {
        "colab": {
          "base_uri": "https://localhost:8080/",
          "height": 52
        },
        "id": "Fa_rbRgcfFdc",
        "outputId": "a8005d98-8c28-4fae-afaa-6c45bb5fc5b6"
      },
      "source": [
        "# sanity check for problem 2\n",
        "''' \n",
        "for classes in tqdm(os.listdir(str(train_data_path))):\n",
        " list_image_per_class = os.listdir(str(train_data_path / classes))\n",
        " assert len(list_image_per_class) == 20\n",
        "'''"
      ],
      "execution_count": 313,
      "outputs": [
        {
          "output_type": "execute_result",
          "data": {
            "application/vnd.google.colaboratory.intrinsic+json": {
              "type": "string"
            },
            "text/plain": [
              "' \\nfor classes in tqdm(os.listdir(str(train_data_path))):\\n list_image_per_class = os.listdir(str(train_data_path / classes))\\n assert len(list_image_per_class) == 20\\n'"
            ]
          },
          "metadata": {
            "tags": []
          },
          "execution_count": 313
        }
      ]
    },
    {
      "cell_type": "code",
      "metadata": {
        "id": "IYD7LB-eiqY6"
      },
      "source": [
        ""
      ],
      "execution_count": 313,
      "outputs": []
    },
    {
      "cell_type": "markdown",
      "metadata": {
        "id": "eXdKXB_ErbyJ"
      },
      "source": [
        "# DATASETS AND DATALOADERS"
      ]
    },
    {
      "cell_type": "code",
      "metadata": {
        "colab": {
          "base_uri": "https://localhost:8080/"
        },
        "id": "giRtit8XPmW5",
        "outputId": "dc3c9622-d474-4158-ea44-d81022b1a4ef"
      },
      "source": [
        "train_data_path = Path(data_path) / 'train'\n",
        "test_data_path = Path(data_path) / 'test'\n",
        "\n",
        "print(f'Train and test data paths are {train_data_path} and {test_data_path} respectively')"
      ],
      "execution_count": 314,
      "outputs": [
        {
          "output_type": "stream",
          "text": [
            "Train and test data paths are /content/drive/MyDrive/data/diseases_copy4/train and /content/drive/MyDrive/data/diseases_copy4/test respectively\n"
          ],
          "name": "stdout"
        }
      ]
    },
    {
      "cell_type": "code",
      "metadata": {
        "id": "pjUdHQ4DQSr1"
      },
      "source": [
        "# transforms\n",
        "train_transform = transforms.Compose(\n",
        "    [\n",
        "     transforms.Resize(256),\n",
        "     transforms.RandomCrop(224),\n",
        "     transforms.RandomHorizontalFlip(),\n",
        "     transforms.ToTensor(),\n",
        "     transforms.Normalize(mean=[0.485, 0.456, 0.406], std=[0.229, 0.224, 0.225])\n",
        "    ]\n",
        ")\n",
        "test_transform = transforms.Compose(\n",
        "    [\n",
        "     transforms.Resize(256),\n",
        "     transforms.RandomCrop(224),\n",
        "     transforms.RandomHorizontalFlip(),\n",
        "     transforms.ToTensor(),\n",
        "     transforms.Normalize(mean=[0.485, 0.456, 0.406], std=[0.229, 0.224, 0.225])\n",
        "    ]\n",
        ")"
      ],
      "execution_count": 315,
      "outputs": []
    },
    {
      "cell_type": "code",
      "metadata": {
        "id": "RrfjVDQ3PYOZ"
      },
      "source": [
        "# datasets\n",
        "\n",
        "ds_train = datasets.ImageFolder(str(train_data_path), transform = train_transform, target_transform = lambda t:torch.tensor(t).long())\n",
        "ds_test = datasets.ImageFolder(str(test_data_path), transform = test_transform, target_transform = lambda t: torch.tensor(t).long())"
      ],
      "execution_count": 316,
      "outputs": []
    },
    {
      "cell_type": "code",
      "metadata": {
        "id": "bHRhJGB0-tCv"
      },
      "source": [
        "# preparing data for problem 2\n",
        "# Code has been adapted from GH repo - https://github.com/YU1ut/MixMatch-pytorch\n",
        "\n",
        "# As per the problem: \n",
        "classes_len = 3\n",
        "n_labeled_per_class = 20\n",
        "\n"
      ],
      "execution_count": 317,
      "outputs": []
    },
    {
      "cell_type": "code",
      "metadata": {
        "id": "ovSez5itBgyp"
      },
      "source": [
        "\n",
        "def train_val_split(labels, n_labeled_per_class, classes_len):\n",
        "\n",
        "    labels = np.array(labels)\n",
        "    train_labeled_idxs = []\n",
        "    train_unlabeled_idxs = []\n",
        "    val_idxs = []\n",
        "\n",
        "    for i in range(classes_len): \n",
        "        idxs = np.where(labels == i)[0]\n",
        "        np.random.shuffle(idxs)\n",
        "        train_labeled_idxs.extend(idxs[:n_labeled_per_class]) \n",
        "        train_unlabeled_idxs.extend(idxs[n_labeled_per_class:-10])\n",
        "        val_idxs.extend(idxs[-10:])\n",
        "    np.random.shuffle(train_labeled_idxs)\n",
        "    np.random.shuffle(train_unlabeled_idxs)\n",
        "    np.random.shuffle(val_idxs)\n",
        "\n",
        "    return train_labeled_idxs, train_unlabeled_idxs, val_idxs"
      ],
      "execution_count": 318,
      "outputs": []
    },
    {
      "cell_type": "code",
      "metadata": {
        "id": "QarEKgyjBne9"
      },
      "source": [
        "train_labeled_idxs, train_unlabeled_idxs, val_idxs = train_val_split(ds_train.targets, n_labeled_per_class, classes_len)"
      ],
      "execution_count": 319,
      "outputs": []
    },
    {
      "cell_type": "code",
      "metadata": {
        "id": "31IP_1HhKms-"
      },
      "source": [
        "from PIL import Image"
      ],
      "execution_count": 320,
      "outputs": []
    },
    {
      "cell_type": "code",
      "metadata": {
        "id": "tN0G_C_FKhPB"
      },
      "source": [
        "# data = list(map(Image.open, list(zip(*ds_train.samples))[0]))"
      ],
      "execution_count": 321,
      "outputs": []
    },
    {
      "cell_type": "code",
      "metadata": {
        "id": "RBNawNASHUUD"
      },
      "source": [
        "\n",
        "def pil_loader(path: str):\n",
        "    # open path as file to avoid ResourceWarning (https://github.com/python-pillow/Pillow/issues/835)\n",
        "    with open(path, 'rb') as f:\n",
        "        img = Image.open(f)\n",
        "        return img.convert('RGB')\n",
        "\n",
        "\n",
        "# TODO: specify the return type\n",
        "def accimage_loader(path: str):\n",
        "    import accimage\n",
        "    try:\n",
        "        return accimage.Image(path)\n",
        "    except IOError:\n",
        "        # Potentially a decoding problem, fall back to PIL.Image\n",
        "        return pil_loader(path)\n",
        "\n",
        "\n",
        "def default_loader(path: str):\n",
        "    from torchvision import get_image_backend\n",
        "    if get_image_backend() == 'accimage':\n",
        "        return accimage_loader(path)\n",
        "    else:\n",
        "        return pil_loader(path)\n",
        "\n"
      ],
      "execution_count": 322,
      "outputs": []
    },
    {
      "cell_type": "code",
      "metadata": {
        "id": "-aIbMMWeMJSQ"
      },
      "source": [
        "class ChestXRay_labeled(datasets.ImageFolder):\n",
        "\n",
        "    def __init__(self, root, indexs=None,\n",
        "                 transform=None, target_transform=None,\n",
        "                 loader=default_loader\n",
        "                 , is_valid_file=None):\n",
        "        super(ChestXRay_labeled, self).__init__(root,\n",
        "                 transform=transform, target_transform=target_transform,\n",
        "                 loader=loader,\n",
        "                 is_valid_file=is_valid_file)\n",
        "        \n",
        "        if indexs is not None:\n",
        "            self.samples = np.array(self.imgs)[indexs].tolist()\n",
        "            # print(len(self.samples))\n",
        "            self.targets = np.array(self.targets)[indexs]\n",
        "            # print(type(self.targets[0]))\n",
        "\n",
        "    def __getitem__(self, index):\n",
        "        \"\"\"\n",
        "        Args:\n",
        "            index (int): Index\n",
        "\n",
        "        Returns:\n",
        "            tuple: (image, target) where target is index of the target class.\n",
        "        \"\"\"\n",
        "        img, target = super(ChestXRay_labeled, self).__getitem__(index)\n",
        "        \n",
        "        return img, target"
      ],
      "execution_count": 323,
      "outputs": []
    },
    {
      "cell_type": "code",
      "metadata": {
        "id": "r60-DnbzJ3lf"
      },
      "source": [
        "train_labeled_dataset = ChestXRay_labeled(str(train_data_path), train_labeled_idxs, transform=train_transform, target_transform=lambda t:torch.tensor((float(t))).long())"
      ],
      "execution_count": 324,
      "outputs": []
    },
    {
      "cell_type": "code",
      "metadata": {
        "id": "FwlhuP4C-fcW"
      },
      "source": [
        ""
      ],
      "execution_count": 324,
      "outputs": []
    },
    {
      "cell_type": "code",
      "metadata": {
        "colab": {
          "base_uri": "https://localhost:8080/"
        },
        "id": "Ra_uHLpTy7AR",
        "outputId": "432a05df-89eb-48ba-eb82-7b35e7bb84e2"
      },
      "source": [
        "train_labeled_dataset[0][1]"
      ],
      "execution_count": 325,
      "outputs": [
        {
          "output_type": "execute_result",
          "data": {
            "text/plain": [
              "tensor(2)"
            ]
          },
          "metadata": {
            "tags": []
          },
          "execution_count": 325
        }
      ]
    },
    {
      "cell_type": "code",
      "metadata": {
        "id": "Scs6Hb676d8_"
      },
      "source": [
        ""
      ],
      "execution_count": 325,
      "outputs": []
    },
    {
      "cell_type": "code",
      "metadata": {
        "id": "-30MPEW7X7Lx"
      },
      "source": [
        ""
      ],
      "execution_count": 325,
      "outputs": []
    },
    {
      "cell_type": "code",
      "metadata": {
        "id": "dx1zYRoWB-ai"
      },
      "source": [
        "assert len(train_labeled_idxs) == 60\n",
        "\n"
      ],
      "execution_count": 326,
      "outputs": []
    },
    {
      "cell_type": "code",
      "metadata": {
        "id": "RHRxI-R7I_KI"
      },
      "source": [
        ""
      ],
      "execution_count": 326,
      "outputs": []
    },
    {
      "cell_type": "code",
      "metadata": {
        "colab": {
          "base_uri": "https://localhost:8080/"
        },
        "id": "HkiCnrV8CW_j",
        "outputId": "d2a68531-a769-46c6-8f0d-587a6be55551"
      },
      "source": [
        "print(len(train_labeled_idxs))\n",
        "print(len(train_unlabeled_idxs))\n",
        "print(len(val_idxs))"
      ],
      "execution_count": 327,
      "outputs": [
        {
          "output_type": "stream",
          "text": [
            "60\n",
            "630\n",
            "30\n"
          ],
          "name": "stdout"
        }
      ]
    },
    {
      "cell_type": "code",
      "metadata": {
        "id": "t8BRrqCgYrFL"
      },
      "source": [
        " class TransformTwice:\n",
        "\n",
        "  def __init__(self, transform):\n",
        "    self.transform = transform\n",
        "\n",
        "  def __call__(self, inp):\n",
        "    out1 = self.transform(inp)\n",
        "    out2 = self.transform(inp)\n",
        "    return out1, out2"
      ],
      "execution_count": 328,
      "outputs": []
    },
    {
      "cell_type": "code",
      "metadata": {
        "id": "ocef4TzlMLBF"
      },
      "source": [
        "\n",
        "class ChestXRay_unlabeled(datasets.ImageFolder):\n",
        "\n",
        "    def __init__(self, root, indexs=None,\n",
        "                 transform=None, target_transform=None,\n",
        "                 loader=default_loader\n",
        "                 , is_valid_file=None):\n",
        "        super(ChestXRay_unlabeled, self).__init__(root,\n",
        "                 transform=transform, target_transform=target_transform,\n",
        "                 loader=loader,\n",
        "                 is_valid_file=is_valid_file)\n",
        "        self.targets = np.array([-1 for i in range(len(self.targets))])\n",
        "        "
      ],
      "execution_count": 329,
      "outputs": []
    },
    {
      "cell_type": "code",
      "metadata": {
        "id": "SB83PoDPcqdP"
      },
      "source": [
        "train_unlabeled_dataset = ChestXRay_unlabeled(str(train_data_path), train_unlabeled_idxs, transform=TransformTwice(train_transform))\n"
      ],
      "execution_count": 330,
      "outputs": []
    },
    {
      "cell_type": "code",
      "metadata": {
        "id": "8E-x84-Ydxeb"
      },
      "source": [
        "val_dataset = ChestXRay_labeled(str(train_data_path), val_idxs, transform=test_transform)\n",
        "test_dataset = ChestXRay_labeled(str(test_data_path), transform=test_transform)"
      ],
      "execution_count": 357,
      "outputs": []
    },
    {
      "cell_type": "code",
      "metadata": {
        "id": "qwsbTC29AMHJ"
      },
      "source": [
        "# set hyperparameters\n",
        "batch_size = 16\n",
        "lr = 5e-5\n",
        "epochs = 30\n",
        "log_freq = 10\n",
        "ema_decay = 0.999\n",
        "training_iteration = 20 # No of iterations per epoch \n",
        "lambda_u = 75\n",
        "\n",
        "\n",
        "\n",
        "num_classes = len(CLASSES)\n",
        "device = torch.device('cuda' if torch.cuda.is_available() else 'cuda')\n",
        "\n"
      ],
      "execution_count": 529,
      "outputs": []
    },
    {
      "cell_type": "code",
      "metadata": {
        "id": "g_aXIJ_SexNY"
      },
      "source": [
        "# Train Dataloaders \n",
        "labeled_trainloader = DataLoader(train_labeled_dataset, batch_size=batch_size, shuffle=True, pin_memory=True, drop_last=True)\n",
        "unlabeled_trainloader = DataLoader(train_unlabeled_dataset, batch_size=batch_size, shuffle=True, pin_memory=True, drop_last=True)"
      ],
      "execution_count": 530,
      "outputs": []
    },
    {
      "cell_type": "code",
      "metadata": {
        "colab": {
          "base_uri": "https://localhost:8080/"
        },
        "id": "dtAmD0VufaLx",
        "outputId": "cb986337-348e-47ec-d2f5-4691c2db9ef2"
      },
      "source": [
        "# sanity check labeled train dataloader\n",
        "for batch in labeled_trainloader:\n",
        "  img, target =  batch\n",
        "  \n",
        "  print(img.shape)\n",
        "  print(target.shape)\n",
        "  print(target.dtype)\n",
        "  break"
      ],
      "execution_count": 531,
      "outputs": [
        {
          "output_type": "stream",
          "text": [
            "torch.Size([16, 3, 224, 224])\n",
            "torch.Size([16])\n",
            "torch.int64\n"
          ],
          "name": "stdout"
        }
      ]
    },
    {
      "cell_type": "code",
      "metadata": {
        "colab": {
          "base_uri": "https://localhost:8080/"
        },
        "id": "g8as74IugUrI",
        "outputId": "05306799-4fa9-48ec-9f6e-ef627150cc63"
      },
      "source": [
        "# sanity check unlabeled train dataloader\n",
        "for batch in unlabeled_trainloader:\n",
        "  (img1, img2), _ =  batch\n",
        "  \n",
        "  print(img1.shape)\n",
        "  print(img2.shape)\n",
        "  print(_.shape)\n",
        "  break "
      ],
      "execution_count": 532,
      "outputs": [
        {
          "output_type": "stream",
          "text": [
            "torch.Size([16, 3, 224, 224])\n",
            "torch.Size([16, 3, 224, 224])\n",
            "torch.Size([16])\n"
          ],
          "name": "stdout"
        }
      ]
    },
    {
      "cell_type": "code",
      "metadata": {
        "id": "4Gp2hWoN1L3J"
      },
      "source": [
        ""
      ],
      "execution_count": 532,
      "outputs": []
    },
    {
      "cell_type": "code",
      "metadata": {
        "colab": {
          "base_uri": "https://localhost:8080/"
        },
        "id": "R4Hjd-rdRL_Z",
        "outputId": "c9020a30-f185-43ce-f0de-06878bf1ef58"
      },
      "source": [
        "# Class labels\n",
        "print(train_unlabeled_dataset.class_to_idx)"
      ],
      "execution_count": 533,
      "outputs": [
        {
          "output_type": "stream",
          "text": [
            "{'COVID': 0, 'NORMAL': 1, 'PNEUMONIA': 2}\n"
          ],
          "name": "stdout"
        }
      ]
    },
    {
      "cell_type": "code",
      "metadata": {
        "colab": {
          "base_uri": "https://localhost:8080/",
          "height": 693
        },
        "id": "eMS_XOSzh-5A",
        "outputId": "8d4ed17e-0059-43a5-efcd-e8f4e3759344"
      },
      "source": [
        "%matplotlib inline\n",
        "\n",
        "# plot the images\n",
        "import matplotlib.pyplot as plt\n",
        "plt.figure(figsize=(9, 9))\n",
        "# plot 9 images\n",
        "for i in range(9):\n",
        "  image, label = train_labeled_dataset[i]\n",
        "  img = image.permute(1, 2, 0)\n",
        "  ax = plt.subplot(3, 3, i + 1)\n",
        "  ax.imshow(img.numpy())\n",
        "  ax.set_title('Class = %s' % CLASSES[int(label.item())])\n",
        "  ax.set_xticks([])\n",
        "  ax.set_yticks([])\n",
        "plt.show()"
      ],
      "execution_count": 534,
      "outputs": [
        {
          "output_type": "stream",
          "text": [
            "Clipping input data to the valid range for imshow with RGB data ([0..1] for floats or [0..255] for integers).\n",
            "Clipping input data to the valid range for imshow with RGB data ([0..1] for floats or [0..255] for integers).\n",
            "Clipping input data to the valid range for imshow with RGB data ([0..1] for floats or [0..255] for integers).\n",
            "Clipping input data to the valid range for imshow with RGB data ([0..1] for floats or [0..255] for integers).\n",
            "Clipping input data to the valid range for imshow with RGB data ([0..1] for floats or [0..255] for integers).\n",
            "Clipping input data to the valid range for imshow with RGB data ([0..1] for floats or [0..255] for integers).\n",
            "Clipping input data to the valid range for imshow with RGB data ([0..1] for floats or [0..255] for integers).\n",
            "Clipping input data to the valid range for imshow with RGB data ([0..1] for floats or [0..255] for integers).\n",
            "Clipping input data to the valid range for imshow with RGB data ([0..1] for floats or [0..255] for integers).\n"
          ],
          "name": "stderr"
        },
        {
          "output_type": "display_data",
          "data": {
            "image/png": "[encoded data removed]",
            "text/plain": [
              "<Figure size 648x648 with 9 Axes>"
            ]
          },
          "metadata": {
            "tags": []
          }
        }
      ]
    },
    {
      "cell_type": "code",
      "metadata": {
        "cellView": "form",
        "id": "sVI1-4woYptV"
      },
      "source": [
        "#@title\n",
        "import math\n",
        "import torch\n",
        "import torch.nn as nn\n",
        "import torch.nn.functional as F\n",
        "\n",
        "\n",
        "class BasicBlock(nn.Module):\n",
        "    def __init__(self, in_planes, out_planes, stride, dropRate=0.0, activate_before_residual=False):\n",
        "        super(BasicBlock, self).__init__()\n",
        "        self.bn1 = nn.BatchNorm2d(in_planes, momentum=0.001)\n",
        "        self.relu1 = nn.LeakyReLU(negative_slope=0.1, inplace=True)\n",
        "        self.conv1 = nn.Conv2d(in_planes, out_planes, kernel_size=3, stride=stride,\n",
        "                               padding=1, bias=False)\n",
        "        self.bn2 = nn.BatchNorm2d(out_planes, momentum=0.001)\n",
        "        self.relu2 = nn.LeakyReLU(negative_slope=0.1, inplace=True)\n",
        "        self.conv2 = nn.Conv2d(out_planes, out_planes, kernel_size=3, stride=1,\n",
        "                               padding=1, bias=False)\n",
        "        self.droprate = dropRate\n",
        "        self.equalInOut = (in_planes == out_planes)\n",
        "        self.convShortcut = (not self.equalInOut) and nn.Conv2d(in_planes, out_planes, kernel_size=1, stride=stride,\n",
        "                               padding=0, bias=False) or None\n",
        "        self.activate_before_residual = activate_before_residual\n",
        "    def forward(self, x):\n",
        "        if not self.equalInOut and self.activate_before_residual == True:\n",
        "            x = self.relu1(self.bn1(x))\n",
        "        else:\n",
        "            out = self.relu1(self.bn1(x))\n",
        "        out = self.relu2(self.bn2(self.conv1(out if self.equalInOut else x)))\n",
        "        if self.droprate > 0:\n",
        "            out = F.dropout(out, p=self.droprate, training=self.training)\n",
        "        out = self.conv2(out)\n",
        "        return torch.add(x if self.equalInOut else self.convShortcut(x), out)\n",
        "\n",
        "class NetworkBlock(nn.Module):\n",
        "    def __init__(self, nb_layers, in_planes, out_planes, block, stride, dropRate=0.0, activate_before_residual=False):\n",
        "        super(NetworkBlock, self).__init__()\n",
        "        self.layer = self._make_layer(block, in_planes, out_planes, nb_layers, stride, dropRate, activate_before_residual)\n",
        "    def _make_layer(self, block, in_planes, out_planes, nb_layers, stride, dropRate, activate_before_residual):\n",
        "        layers = []\n",
        "        for i in range(int(nb_layers)):\n",
        "            layers.append(block(i == 0 and in_planes or out_planes, out_planes, i == 0 and stride or 1, dropRate, activate_before_residual))\n",
        "        return nn.Sequential(*layers)\n",
        "    def forward(self, x):\n",
        "        return self.layer(x)\n",
        "\n",
        "class WideResNet(nn.Module):\n",
        "    def __init__(self, num_classes, depth=28, widen_factor=2, dropRate=0.0):\n",
        "        super(WideResNet, self).__init__()\n",
        "        nChannels = [16, 16*widen_factor, 32*widen_factor, 64*widen_factor]\n",
        "        assert((depth - 4) % 6 == 0)\n",
        "        n = (depth - 4) / 6\n",
        "        block = BasicBlock\n",
        "        # 1st conv before any network block\n",
        "        self.conv1 = nn.Conv2d(3, nChannels[0], kernel_size=3, stride=1,\n",
        "                               padding=1, bias=False)\n",
        "        # 1st block\n",
        "        self.block1 = NetworkBlock(n, nChannels[0], nChannels[1], block, 1, dropRate, activate_before_residual=True)\n",
        "        # 2nd block\n",
        "        self.block2 = NetworkBlock(n, nChannels[1], nChannels[2], block, 2, dropRate)\n",
        "        # 3rd block\n",
        "        self.block3 = NetworkBlock(n, nChannels[2], nChannels[3], block, 2, dropRate)\n",
        "        # global average pooling and classifier\n",
        "        self.bn1 = nn.BatchNorm2d(nChannels[3], momentum=0.001)\n",
        "        self.relu = nn.LeakyReLU(negative_slope=0.1, inplace=True)\n",
        "        self.fc = nn.Linear(nChannels[3], num_classes)\n",
        "        self.nChannels = nChannels[3]\n",
        "\n",
        "        for m in self.modules():\n",
        "            if isinstance(m, nn.Conv2d):\n",
        "                n = m.kernel_size[0] * m.kernel_size[1] * m.out_channels\n",
        "                m.weight.data.normal_(0, math.sqrt(2. / n))\n",
        "            elif isinstance(m, nn.BatchNorm2d):\n",
        "                m.weight.data.fill_(1)\n",
        "                m.bias.data.zero_()\n",
        "            elif isinstance(m, nn.Linear):\n",
        "                nn.init.xavier_normal_(m.weight.data)\n",
        "                m.bias.data.zero_()\n",
        "\n",
        "    def forward(self, x):\n",
        "        out = self.conv1(x)\n",
        "        out = self.block1(out)\n",
        "        out = self.block2(out)\n",
        "        out = self.block3(out)\n",
        "        out = self.relu(self.bn1(out))\n",
        "        out = F.avg_pool2d(out, 8)\n",
        "        out = out.view(-1, self.nChannels)\n",
        "        return self.fc(out)"
      ],
      "execution_count": 535,
      "outputs": []
    },
    {
      "cell_type": "code",
      "metadata": {
        "id": "Gg2oUPskBePD"
      },
      "source": [
        "def create_model(ema=False):\n",
        "  # Move the model to CUDA, if available\n",
        "  if torch.cuda.is_available():\n",
        "    # model = WideResNet(num_classes=3)\n",
        "    model = torch.hub.load('pytorch/vision:v0.9.0', 'resnet50', pretrained=True)\n",
        "    model.fc = nn.Linear(2048, num_classes)\n",
        "    model.to(device)\n",
        "  \n",
        "  if ema == True:\n",
        "    for param in model.parameters():\n",
        "      param.detach_()\n",
        "  return model\n"
      ],
      "execution_count": 536,
      "outputs": []
    },
    {
      "cell_type": "code",
      "metadata": {
        "id": "5_UUagagXwwp",
        "colab": {
          "base_uri": "https://localhost:8080/"
        },
        "outputId": "dd616193-6cc1-481d-c859-760432f32a50"
      },
      "source": [
        "model = create_model()\n",
        "ema_model = create_model(ema=True)"
      ],
      "execution_count": 537,
      "outputs": [
        {
          "output_type": "stream",
          "text": [
            "Using cache found in /root/.cache/torch/hub/pytorch_vision_v0.9.0\n",
            "Using cache found in /root/.cache/torch/hub/pytorch_vision_v0.9.0\n"
          ],
          "name": "stderr"
        }
      ]
    },
    {
      "cell_type": "code",
      "metadata": {
        "colab": {
          "base_uri": "https://localhost:8080/"
        },
        "id": "LoFNR4X93ulQ",
        "outputId": "8a14e7a9-4707-440e-b4f8-5100619956a9"
      },
      "source": [
        "next(ema_model.parameters()).is_cuda"
      ],
      "execution_count": 538,
      "outputs": [
        {
          "output_type": "execute_result",
          "data": {
            "text/plain": [
              "True"
            ]
          },
          "metadata": {
            "tags": []
          },
          "execution_count": 538
        }
      ]
    },
    {
      "cell_type": "code",
      "metadata": {
        "id": "g7zKXzqAD9d5",
        "cellView": "form"
      },
      "source": [
        "#@title\n",
        "\n",
        "def linear_rampup(current, rampup_length=epochs):\n",
        "    if rampup_length == 0:\n",
        "        return 1.0\n",
        "    else:\n",
        "        current = np.clip(current / rampup_length, 0.0, 1.0)\n",
        "        return float(current)\n",
        "\n",
        "class SemiLoss(object):\n",
        "    def __call__(self, outputs_x, targets_x, outputs_u, targets_u, epoch):\n",
        "        probs_u = torch.softmax(outputs_u, dim=1)\n",
        "\n",
        "        Lx = -torch.mean(torch.sum(F.log_softmax(outputs_x, dim=1) * targets_x, dim=1))\n",
        "        Lu = torch.mean((probs_u - targets_u)**2)\n",
        "\n",
        "        return Lx, Lu, lambda_u * linear_rampup(epoch)\n",
        "\n",
        "class WeightEMA(object):\n",
        "    def __init__(self, model, ema_model, alpha=0.999):\n",
        "        self.model = model\n",
        "        self.ema_model = ema_model\n",
        "        self.alpha = alpha\n",
        "        self.params = list(model.state_dict().values())\n",
        "        self.ema_params = list(ema_model.state_dict().values())\n",
        "        self.wd = 0.02 * lr\n",
        "\n",
        "        for param, ema_param in zip(self.params, self.ema_params):\n",
        "            param.data.copy_(ema_param.data)\n",
        "\n",
        "    def step(self):\n",
        "        one_minus_alpha = 1.0 - self.alpha\n",
        "        for param, ema_param in zip(self.params, self.ema_params):\n",
        "            if ema_param.dtype==torch.float32:\n",
        "                ema_param.mul_(self.alpha)\n",
        "                ema_param.add_(param * one_minus_alpha)\n",
        "                # customized weight decay\n",
        "                param.mul_(1 - self.wd)\n",
        "\n",
        "def interleave_offsets(batch, nu):\n",
        "    groups = [batch // (nu + 1)] * (nu + 1)\n",
        "    for x in range(batch - sum(groups)):\n",
        "        groups[-x - 1] += 1\n",
        "    offsets = [0]\n",
        "    for g in groups:\n",
        "        offsets.append(offsets[-1] + g)\n",
        "    assert offsets[-1] == batch\n",
        "    return offsets\n",
        "\n",
        "\n",
        "def interleave(xy, batch):\n",
        "    nu = len(xy) - 1\n",
        "    offsets = interleave_offsets(batch, nu)\n",
        "    xy = [[v[offsets[p]:offsets[p + 1]] for p in range(nu + 1)] for v in xy]\n",
        "    for i in range(1, nu + 1):\n",
        "        xy[0][i], xy[i][i] = xy[i][i], xy[0][i]\n",
        "    return [torch.cat(v, dim=0) for v in xy]"
      ],
      "execution_count": 539,
      "outputs": []
    },
    {
      "cell_type": "code",
      "metadata": {
        "id": "Y_q9j4ZFgtIJ",
        "cellView": "form"
      },
      "source": [
        "#@title\n",
        "\n",
        "from typing import Tuple\n",
        "# Macro F1 score PyTorch\n",
        "\n",
        "class F1Score:\n",
        "    \"\"\"\n",
        "    Class for f1 calculation in Pytorch.\n",
        "    \"\"\"\n",
        "\n",
        "    def __init__(self, average: str = 'weighted'):\n",
        "        \"\"\"\n",
        "        Init.\n",
        "\n",
        "        Args:\n",
        "            average: averaging method\n",
        "        \"\"\"\n",
        "        self.average = average\n",
        "        if average not in [None, 'micro', 'macro', 'weighted']:\n",
        "            raise ValueError('Wrong value of average parameter')\n",
        "\n",
        "    @staticmethod\n",
        "    def calc_f1_micro(predictions: torch.Tensor, labels: torch.Tensor) -> torch.Tensor:\n",
        "        \"\"\"\n",
        "        Calculate f1 micro.\n",
        "\n",
        "        Args:\n",
        "            predictions: tensor with predictions\n",
        "            labels: tensor with original labels\n",
        "\n",
        "        Returns:\n",
        "            f1 score\n",
        "        \"\"\"\n",
        "        true_positive = torch.eq(labels, predictions).sum().float()\n",
        "        f1_score = torch.div(true_positive, len(labels))\n",
        "        return f1_score\n",
        "\n",
        "    @staticmethod\n",
        "    def calc_f1_count_for_label(predictions: torch.Tensor,\n",
        "                                labels: torch.Tensor, label_id: int) -> Tuple[torch.Tensor, torch.Tensor]:\n",
        "        \"\"\"\n",
        "        Calculate f1 and true count for the label\n",
        "\n",
        "        Args:\n",
        "            predictions: tensor with predictions\n",
        "            labels: tensor with original labels\n",
        "            label_id: id of current label\n",
        "\n",
        "        Returns:\n",
        "            f1 score and true count for label\n",
        "        \"\"\"\n",
        "        # label count\n",
        "        true_count = torch.eq(labels, label_id).sum()\n",
        "\n",
        "        # true positives: labels equal to prediction and to label_id\n",
        "        true_positive = torch.logical_and(torch.eq(labels, predictions),\n",
        "                                          torch.eq(labels, label_id)).sum().float()\n",
        "        # precision for label\n",
        "        precision = torch.div(true_positive, torch.eq(predictions, label_id).sum().float())\n",
        "        # replace nan values with 0\n",
        "        precision = torch.where(torch.isnan(precision),\n",
        "                                torch.zeros_like(precision).type_as(true_positive),\n",
        "                                precision)\n",
        "\n",
        "        # recall for label\n",
        "        recall = torch.div(true_positive, true_count)\n",
        "        # f1\n",
        "        f1 = 2 * precision * recall / (precision + recall)\n",
        "        # replace nan values with 0\n",
        "        f1 = torch.where(torch.isnan(f1), torch.zeros_like(f1).type_as(true_positive), f1)\n",
        "        return f1, true_count\n",
        "\n",
        "    def __call__(self, predictions: torch.Tensor, labels: torch.Tensor) -> torch.Tensor:\n",
        "        \"\"\"\n",
        "        Calculate f1 score based on averaging method defined in init.\n",
        "\n",
        "        Args:\n",
        "            predictions: tensor with predictions\n",
        "            labels: tensor with original labels\n",
        "\n",
        "        Returns:\n",
        "            f1 score\n",
        "        \"\"\"\n",
        "\n",
        "        # simpler calculation for micro\n",
        "        if self.average == 'micro':\n",
        "            return self.calc_f1_micro(predictions, labels)\n",
        "\n",
        "        f1_score = 0\n",
        "        for label_id in range(1, len(labels.unique()) + 1):\n",
        "            f1, true_count = self.calc_f1_count_for_label(predictions, labels, label_id)\n",
        "\n",
        "            if self.average == 'weighted':\n",
        "                f1_score += f1 * true_count\n",
        "            elif self.average == 'macro':\n",
        "                f1_score += f1\n",
        "\n",
        "        if self.average == 'weighted':\n",
        "            f1_score = torch.div(f1_score, len(labels))\n",
        "        elif self.average == 'macro':\n",
        "            f1_score = torch.div(f1_score, len(labels.unique()))\n",
        "\n",
        "        return f1_score"
      ],
      "execution_count": 540,
      "outputs": []
    },
    {
      "cell_type": "code",
      "metadata": {
        "id": "-FA3XrZUVqBD"
      },
      "source": [
        "# Define optimizer, loss, macro and micro F1 scores\n",
        "\n",
        "optimizer = torch.optim.Adam(model.parameters(), lr=lr)\n",
        "# model.scheduler = torch.optim.lr_scheduler.CosineAnnealingLR(model.optimizer, T_max = 5)\n",
        "criterion = torch.nn.CrossEntropyLoss()\n",
        "\n",
        "train_criterion = SemiLoss()\n",
        "ema_optimizer= WeightEMA(model, ema_model, alpha=ema_decay)\n",
        "\n",
        "macro_f1_score = F1Score(average='macro')\n",
        "micro_f1_score = F1Score(average='micro')"
      ],
      "execution_count": 541,
      "outputs": []
    },
    {
      "cell_type": "code",
      "metadata": {
        "id": "pWOzkae0d9cq",
        "colab": {
          "base_uri": "https://localhost:8080/",
          "height": 120
        },
        "cellView": "form",
        "outputId": "86952cdf-805b-4913-af01-c5a1fed7123e"
      },
      "source": [
        "#@title\n",
        "'''def train_step(model, features, labels):\n",
        "  # training\n",
        "  model.train() \n",
        "\n",
        "  model.optimizer.zero_grad()\n",
        "\n",
        "  logits = model(features)\n",
        "  loss = model.loss_func(logits, labels)\n",
        "\n",
        "\n",
        "  # compute the accuracy \n",
        "  probs = torch.softmax(logits, dim=1)\n",
        "  predicted_labels = torch.argmax(logits, dim = 1)\n",
        "\n",
        "  correct = predicted_labels == labels\n",
        "  accuracy = correct.sum().float() / float(labels.size(0))\n",
        "\n",
        "  # F1 metrics\n",
        "  \n",
        "  # macro F1 score\n",
        "  macro_f1_score = model.macro_f1_score(predicted_labels.flatten(), labels.flatten())\n",
        "\n",
        "  # micro F1 score\n",
        "  micro_f1_score = model.micro_f1_score(predicted_labels.flatten(), labels.flatten())\n",
        "\n",
        "\n",
        "  # Backwardprop\n",
        "  loss.backward()\n",
        "\n",
        "  # Update the weights\n",
        "  model.optimizer.step()\n",
        "  model.scheduler.step()\n",
        "  model.ema_optimizer.step()\n",
        "\n",
        "  return loss.item(), accuracy, macro_f1_score.item(), micro_f1_score.item()'''\n"
      ],
      "execution_count": 542,
      "outputs": [
        {
          "output_type": "execute_result",
          "data": {
            "application/vnd.google.colaboratory.intrinsic+json": {
              "type": "string"
            },
            "text/plain": [
              "'def train_step(model, features, labels):\\n  # training\\n  model.train() \\n\\n  model.optimizer.zero_grad()\\n\\n  logits = model(features)\\n  loss = model.loss_func(logits, labels)\\n\\n\\n  # compute the accuracy \\n  probs = torch.softmax(logits, dim=1)\\n  predicted_labels = torch.argmax(logits, dim = 1)\\n\\n  correct = predicted_labels == labels\\n  accuracy = correct.sum().float() / float(labels.size(0))\\n\\n  # F1 metrics\\n  \\n  # macro F1 score\\n  macro_f1_score = model.macro_f1_score(predicted_labels.flatten(), labels.flatten())\\n\\n  # micro F1 score\\n  micro_f1_score = model.micro_f1_score(predicted_labels.flatten(), labels.flatten())\\n\\n\\n  # Backwardprop\\n  loss.backward()\\n\\n  # Update the weights\\n  model.optimizer.step()\\n  model.scheduler.step()\\n  model.ema_optimizer.step()\\n\\n  return loss.item(), accuracy, macro_f1_score.item(), micro_f1_score.item()'"
            ]
          },
          "metadata": {
            "tags": []
          },
          "execution_count": 542
        }
      ]
    },
    {
      "cell_type": "code",
      "metadata": {
        "id": "Gk4MYvI2e6Zy",
        "colab": {
          "base_uri": "https://localhost:8080/",
          "height": 103
        },
        "cellView": "form",
        "outputId": "08823783-a828-4a3a-d236-a48603bf4ace"
      },
      "source": [
        "#@title\n",
        "'''def valid_step(model, features, labels):\n",
        "  # validation\n",
        "  model.eval()\n",
        "\n",
        "  with torch.no_grad():\n",
        "    logits = model(features)\n",
        "    loss = model.loss_func(logits, labels)\n",
        "    \n",
        "    # compute the accuracy \n",
        "    probs = torch.softmax(logits, dim=1)\n",
        "    predicted_labels = torch.argmax(logits, dim = 1)\n",
        "\n",
        "    correct = predicted_labels == labels\n",
        "    accuracy = correct.sum().float() / float(labels.size(0))\n",
        "\n",
        "\n",
        "    # F1 metrics\n",
        "    \n",
        "    # macro F1 score\n",
        "    macro_f1_score = model.macro_f1_score(predicted_labels.flatten(), labels.flatten())\n",
        "\n",
        "    # micro F1 score\n",
        "    micro_f1_score = model.micro_f1_score(predicted_labels.flatten(), labels.flatten())\n",
        "\n",
        "  \n",
        "\n",
        "  return loss.item(), accuracy, macro_f1_score.item(), micro_f1_score.item()\n",
        "'''"
      ],
      "execution_count": 543,
      "outputs": [
        {
          "output_type": "execute_result",
          "data": {
            "application/vnd.google.colaboratory.intrinsic+json": {
              "type": "string"
            },
            "text/plain": [
              "'def valid_step(model, features, labels):\\n  # validation\\n  model.eval()\\n\\n  with torch.no_grad():\\n    logits = model(features)\\n    loss = model.loss_func(logits, labels)\\n    \\n    # compute the accuracy \\n    probs = torch.softmax(logits, dim=1)\\n    predicted_labels = torch.argmax(logits, dim = 1)\\n\\n    correct = predicted_labels == labels\\n    accuracy = correct.sum().float() / float(labels.size(0))\\n\\n\\n    # F1 metrics\\n    \\n    # macro F1 score\\n    macro_f1_score = model.macro_f1_score(predicted_labels.flatten(), labels.flatten())\\n\\n    # micro F1 score\\n    micro_f1_score = model.micro_f1_score(predicted_labels.flatten(), labels.flatten())\\n\\n  \\n\\n  return loss.item(), accuracy, macro_f1_score.item(), micro_f1_score.item()\\n'"
            ]
          },
          "metadata": {
            "tags": []
          },
          "execution_count": 543
        }
      ]
    },
    {
      "cell_type": "code",
      "metadata": {
        "colab": {
          "base_uri": "https://localhost:8080/"
        },
        "id": "Fg9Qvjb_E_Dl",
        "outputId": "2d3bae40-dfe3-4d15-9c94-4ba6e74a4d83"
      },
      "source": [
        "!pip install progress"
      ],
      "execution_count": 544,
      "outputs": [
        {
          "output_type": "stream",
          "text": [
            "Requirement already satisfied: progress in /usr/local/lib/python3.7/dist-packages (1.5)\n"
          ],
          "name": "stdout"
        }
      ]
    },
    {
      "cell_type": "code",
      "metadata": {
        "id": "QKuNDW1TD7Z4"
      },
      "source": [
        "from progress.bar import Bar \n",
        "\n",
        "class AverageMeter(object):\n",
        "  def __init__(self):\n",
        "    self.reset()\n",
        "  \n",
        "  def reset(self):\n",
        "    self.val = 0\n",
        "    self.avg = 0\n",
        "    self.sum = 0\n",
        "    self.count = 0\n",
        "  \n",
        "  def update(self, val, n=1):\n",
        "    self.val = val\n",
        "    self.sum += val*n\n",
        "    self.count += n\n",
        "    self.avg = self.sum / self.count\n"
      ],
      "execution_count": 545,
      "outputs": []
    },
    {
      "cell_type": "code",
      "metadata": {
        "id": "qQHdbZFbGAKX"
      },
      "source": [
        "def train(labeled_trainloader, unlabeled_trainloader, model, epoch, train_iteration=1024, T=0.5, alpha=0.75):\n",
        "\n",
        "    batch_time = AverageMeter()\n",
        "    data_time = AverageMeter()\n",
        "    losses = AverageMeter()\n",
        "    losses_x = AverageMeter()\n",
        "    losses_u = AverageMeter()\n",
        "    ws = AverageMeter()\n",
        "    end = time.time()\n",
        "\n",
        "    bar = Bar('Training', max=train_iteration)\n",
        "    labeled_train_iter = iter(labeled_trainloader)\n",
        "    unlabeled_train_iter = iter(unlabeled_trainloader)\n",
        "\n",
        "    model.train()\n",
        "    for batch_idx in range(train_iteration):\n",
        "        try:\n",
        "            inputs_x, targets_x = labeled_train_iter.next()\n",
        "        except:\n",
        "            labeled_train_iter = iter(labeled_trainloader)\n",
        "            inputs_x, targets_x = labeled_train_iter.next()\n",
        "\n",
        "        try:\n",
        "            (inputs_u, inputs_u2), _ = unlabeled_train_iter.next()\n",
        "        except:\n",
        "            unlabeled_train_iter = iter(unlabeled_trainloader)\n",
        "            (inputs_u, inputs_u2), _ = unlabeled_train_iter.next()\n",
        "\n",
        "        # measure data loading time\n",
        "        data_time.update(time.time() - end)\n",
        "\n",
        "        batch_size = inputs_x.size(0)\n",
        "\n",
        "        # Transform label to one-hot\n",
        "        targets_x = torch.zeros(batch_size, num_classes).scatter_(1, targets_x.view(-1,1).long(), 1)\n",
        "\n",
        "        inputs_x, targets_x = inputs_x.cuda(), targets_x.cuda(non_blocking=True)\n",
        "        inputs_u = inputs_u.cuda()\n",
        "        inputs_u2 = inputs_u2.cuda()\n",
        "\n",
        "        with torch.no_grad():\n",
        "            # compute guessed labels of unlabel samples\n",
        "            outputs_u = model(inputs_u)\n",
        "            outputs_u2 = model(inputs_u2)\n",
        "            p = (torch.softmax(outputs_u, dim=1) + torch.softmax(outputs_u2, dim=1)) / 2\n",
        "            pt = p**(1/T)\n",
        "            targets_u = pt / pt.sum(dim=1, keepdim=True)\n",
        "            targets_u = targets_u.detach()\n",
        "\n",
        "        # mixup\n",
        "        all_inputs = torch.cat([inputs_x, inputs_u, inputs_u2], dim=0)\n",
        "        all_targets = torch.cat([targets_x, targets_u, targets_u], dim=0)\n",
        "\n",
        "        l = np.random.beta(alpha, alpha)\n",
        "\n",
        "        l = max(l, 1-l)\n",
        "\n",
        "        idx = torch.randperm(all_inputs.size(0))\n",
        "\n",
        "        input_a, input_b = all_inputs, all_inputs[idx]\n",
        "        target_a, target_b = all_targets, all_targets[idx]\n",
        "\n",
        "\n",
        "        mixed_input = l * input_a + (1 - l) * input_b\n",
        "        mixed_target = l * target_a + (1 - l) * target_b\n",
        "\n",
        "\n",
        "\n",
        "        # interleave labeled and unlabed samples between batches to get correct batchnorm calculation \n",
        "        mixed_input = list(torch.split(mixed_input, batch_size))\n",
        "        mixed_input = interleave(mixed_input, batch_size)\n",
        "\n",
        "        logits = [model(mixed_input[0])]\n",
        "        for input in mixed_input[1:]:\n",
        "            logits.append(model(input))\n",
        "\n",
        "        # put interleaved samples back\n",
        "        logits = interleave(logits, batch_size)\n",
        "        logits_x = logits[0]\n",
        "        logits_u = torch.cat(logits[1:], dim=0)\n",
        "\n",
        "        Lx, Lu, w = train_criterion(logits_x, mixed_target[:batch_size], logits_u, mixed_target[batch_size:], epoch+batch_idx/train_iteration)\n",
        "\n",
        "        loss = Lx + w * Lu\n",
        "        # print('The loss is ', loss)\n",
        "\n",
        "        # record loss\n",
        "        losses.update(loss.item(), inputs_x.size(0))\n",
        "        losses_x.update(Lx.item(), inputs_x.size(0))\n",
        "        losses_u.update(Lu.item(), inputs_x.size(0))\n",
        "        ws.update(w, inputs_x.size(0))\n",
        "\n",
        "        # compute gradient and do SGD step\n",
        "        optimizer.zero_grad()\n",
        "        loss.backward()\n",
        "        optimizer.step()\n",
        "        ema_optimizer.step()\n",
        "\n",
        "        # measure elapsed time\n",
        "        batch_time.update(time.time() - end)\n",
        "        end = time.time()\n",
        "\n",
        "        # plot progress\n",
        "        print('({batch}/{size}) Data: {data:.3f}s | Batch: {bt:.3f}s | Total: {total:} | ETA: {eta:} | Loss: {loss:.4f} | Loss_x: {loss_x:.4f} | Loss_u: {loss_u:.4f} | W: {w:.4f}'.format(\n",
        "                    batch=batch_idx + 1,\n",
        "                    size=train_iteration,\n",
        "                    data=data_time.avg,\n",
        "                    bt=batch_time.avg,\n",
        "                    total=bar.elapsed_td,\n",
        "                    eta=bar.eta_td,\n",
        "                    loss=losses.avg,\n",
        "                    loss_x=losses_x.avg,\n",
        "                    loss_u=losses_u.avg,\n",
        "                    w=ws.avg,\n",
        "                    ))\n",
        "  \n",
        "    return (losses.avg, losses_x.avg, losses_u.avg,)\n"
      ],
      "execution_count": 546,
      "outputs": []
    },
    {
      "cell_type": "code",
      "metadata": {
        "id": "q1CpEGw_mI-i"
      },
      "source": [
        "def valid(val_loader, model, epoch, mode):\n",
        "\n",
        "  batch_time = AverageMeter()\n",
        "  data_time = AverageMeter()\n",
        "  losses = AverageMeter()\n",
        "  macro_f1_scores = AverageMeter()\n",
        "  micro_f1_scores = AverageMeter()\n",
        "  accuaracies = AverageMeter()\n",
        "\n",
        "  model.eval()\n",
        "\n",
        "  end = time.time()\n",
        "  print(f'************{mode}*************')\n",
        "  with torch.no_grad():\n",
        "    for batch_idx, (inputs, targets) in enumerate(val_loader):\n",
        "\n",
        "      # measure data loading time\n",
        "      data_time.update(time.time() - end)\n",
        "\n",
        "      inputs, targets = inputs.cuda(), targets.cuda(non_blocking=True)\n",
        "\n",
        "      # compute output\n",
        "      outputs = model(inputs)\n",
        "\n",
        "      # compute loss\n",
        "      loss = criterion(outputs, targets)\n",
        "\n",
        "      ## compute metrics\n",
        "      # accuracy\n",
        "      probs = torch.softmax(outputs, dim=1)\n",
        "      predicted_labels = torch.argmax(probs, dim=1)\n",
        "\n",
        "      correct = float(predicted_labels == targets)\n",
        "      # accuracy = correct.sum() / float(tagets.size(0))\n",
        "\n",
        "      # macro F1 score\n",
        "      macro_f1 = macro_f1_score(predicted_labels.flatten(), targets.flatten())\n",
        "\n",
        "      # micro F1 score\n",
        "      micro_f1 = micro_f1_score(predicted_labels.flatten(), targets.flatten())\n",
        "\n",
        "      # update the loss and metrics\n",
        "      losses.update(loss.item(), inputs.size(0))\n",
        "      accuracies.update(correct, inputs.size(0))\n",
        "      macro_f1_scores.update(macro_f1.item(), inputs.size(0))\n",
        "      micro_f1_scores.update(micro_f1.item(), inputs.size(0))\n",
        "\n",
        "      # measure elapsed time\n",
        "      batch_time.update(time.time() - end)\n",
        "\n",
        "      # print the logs\n",
        "      print('({batch}/{size}) Data: {data:.3f}s | Batch: {bt:.3f}s | Total: {total:} | ETA: {eta:} | Loss: {loss:.4f} | Accuracy: {accuracy:.4f} | Macro_F1_score: {macro_f1_score:.4f} | Micro_F1_score: {micro_f1_score:.4f}'.format(\n",
        "            batch=batch_idx + 1,\n",
        "            size=len(val_loader),\n",
        "            data=data_time.avg,\n",
        "            bt=batch_time.avg,\n",
        "            total=bar.elapsed_td,\n",
        "            eta=bar.eta_td,\n",
        "            loss=losses.avg,\n",
        "            accuracy=accuracies.avg, \n",
        "            macro_f1_score=macro_f1_scores.avg, \n",
        "            micro_f1_score=micro_f1_scores.avg\n",
        "            ))\n",
        "      \n",
        "  return losses.avg, accuracies.avg, macro_f1_scores.avg, micro_f1_scores.avg\n",
        "\n",
        "\n",
        "\n",
        "\n",
        "\n"
      ],
      "execution_count": 547,
      "outputs": []
    },
    {
      "cell_type": "code",
      "metadata": {
        "id": "JzFPzeakkZzH"
      },
      "source": [
        "def train_model(model, labeled_trainloader, unlabeled_trainloader, epochs, log_freq):\n",
        "  print('********Training has started***************')\n",
        "\n",
        "\n",
        "  wandb.watch(model, log='all')\n",
        "\n",
        "  step = 0\n",
        "  for epoch in range(1, epochs + 1):\n",
        "    \n",
        "    print('\\n Epoch: [%d | %d]' % (epoch, epochs))\n",
        "\n",
        "    train_loss, train_loss_x, train_loss_u = train(labeled_trainloader, unlabeled_trainloader, model, epoch=epoch, train_iteration=train_iteration)\n",
        "    _, train_accuracy, train_macro_f1, train_micro_f1 = valid(labeled_trainloader, ema_model, epoch, mode='Train_stats')\n",
        "    # val_loss, val_accuracy, val_macro_f1, val_micro_f1 = valid(val_loader, ema_model, epoch, mode='Validation Stats')\n",
        "\n",
        "\n",
        "    step = train_iteration * (epoch + 1)\n",
        "\n",
        "\n",
        "    wandb.log({\n",
        "        'epoch': epoch,\n",
        "        'train_loss': train_loss,\n",
        "        'train_loss_x': train_loss_x,\n",
        "        'train_loss_u': train_loss_u,\n",
        "        'train_accuracy':train_accuracy,\n",
        "        'train_macro_f1':train_macro_f1,\n",
        "        'train_micro_f1':train_micro_f1,\n",
        "\n",
        "\n",
        "        'val_loss': val_loss\n",
        "    })\n",
        "  \n",
        "  print('**************Fine tuning has Finished**********************')\n",
        "  \n",
        "  # saving the model\n",
        "  torch.save(model.state_dict(), 'model.h5')\n",
        "  wandb.save('model.h5')\n"
      ],
      "execution_count": 548,
      "outputs": []
    },
    {
      "cell_type": "code",
      "metadata": {
        "colab": {
          "base_uri": "https://localhost:8080/",
          "height": 1000,
          "referenced_widgets": [
            "dacf0fd66bc449de85ad9e67d7de1eb5",
            "3524489f5085433a94559b988d06560a",
            "7f22462d61b247e0890753d919d91f71",
            "75210624dd944555a5ed509a491a1f91",
            "88f85e99fed748c0a3c1bae811288422",
            "a08df41ce20040e9a81f47978dbfe29a",
            "8aac66b0e6f341589795762cc63e4474",
            "603e4925824640c79340ac18525c1047"
          ]
        },
        "id": "-fhq0Jc681Fp",
        "outputId": "47ec13b5-a007-46d0-9d8a-8ee6871700f2"
      },
      "source": [
        "%wandb\n",
        "def main():\n",
        "  # wandb initialize a new run\n",
        "  wandb.init(project='Expand-ai-problem-2')\n",
        "  wandb.watch_called = False\n",
        "\n",
        "  config = wandb.config\n",
        "  config.batch_size = batch_size\n",
        "  config.epochs = epochs\n",
        "  config.lr = lr\n",
        "  config.seed = 42\n",
        "  config.classes = len(CLASSES)\n",
        "  config.device = device\n",
        "  config.ema_decay = ema_decay\n",
        "  config.training_iteration = training_iteration \n",
        "  config.lambda_u = lambda_u\n",
        "  \n",
        "\n",
        "  # set seed\n",
        "  torch.manual_seed(config.seed)\n",
        "  torch.backends.cudnn.deterministic = True\n",
        "  torch.backends.cudnn.benchmark = True\n",
        "\n",
        "  train_model(model, labeled_trainloader, unlabeled_trainloader, epochs, log_freq)\n",
        "\n",
        "if __name__=='__main__':\n",
        "  main()\n",
        "  wandb.finish()\n"
      ],
      "execution_count": null,
      "outputs": [
        {
          "output_type": "display_data",
          "data": {
            "text/html": [
              "<iframe src=\"https://wandb.ai/vs74/Expand-ai-problem-2/runs/kcdgfxka?jupyter=true\" style=\"border:none;width:100%;height:420px\">\n",
              "                </iframe>"
            ],
            "text/plain": [
              "<wandb.jupyter.Run at 0x7fedf9825950>"
            ]
          },
          "metadata": {
            "tags": []
          }
        },
        {
          "output_type": "display_data",
          "data": {
            "text/html": [
              "Finishing last run (ID:kcdgfxka) before initializing another..."
            ],
            "text/plain": [
              "<IPython.core.display.HTML object>"
            ]
          },
          "metadata": {
            "tags": []
          }
        },
        {
          "output_type": "display_data",
          "data": {
            "text/html": [
              "<br/>Waiting for W&B process to finish, PID 2656<br/>Program ended successfully."
            ],
            "text/plain": [
              "<IPython.core.display.HTML object>"
            ]
          },
          "metadata": {
            "tags": []
          }
        },
        {
          "output_type": "display_data",
          "data": {
            "application/vnd.jupyter.widget-view+json": {
              "model_id": "dacf0fd66bc449de85ad9e67d7de1eb5",
              "version_minor": 0,
              "version_major": 2
            },
            "text/plain": [
              "VBox(children=(Label(value=' 0.02MB of 0.02MB uploaded (0.00MB deduped)\\r'), FloatProgress(value=1.0, max=1.0)…"
            ]
          },
          "metadata": {
            "tags": []
          }
        },
        {
          "output_type": "display_data",
          "data": {
            "text/html": [
              "Find user logs for this run at: <code>/content/wandb/run-20210616_121452-kcdgfxka/logs/debug.log</code>"
            ],
            "text/plain": [
              "<IPython.core.display.HTML object>"
            ]
          },
          "metadata": {
            "tags": []
          }
        },
        {
          "output_type": "display_data",
          "data": {
            "text/html": [
              "Find internal logs for this run at: <code>/content/wandb/run-20210616_121452-kcdgfxka/logs/debug-internal.log</code>"
            ],
            "text/plain": [
              "<IPython.core.display.HTML object>"
            ]
          },
          "metadata": {
            "tags": []
          }
        },
        {
          "output_type": "display_data",
          "data": {
            "text/html": [
              "<h3>Run summary:</h3><br/><style>\n",
              "    table.wandb td:nth-child(1) { padding: 0 10px; text-align: right }\n",
              "    </style><table class=\"wandb\">\n",
              "<tr><td>_runtime</td><td>2090</td></tr><tr><td>_timestamp</td><td>1623847786</td></tr><tr><td>_step</td><td>0</td></tr></table>"
            ],
            "text/plain": [
              "<IPython.core.display.HTML object>"
            ]
          },
          "metadata": {
            "tags": []
          }
        },
        {
          "output_type": "display_data",
          "data": {
            "text/html": [
              "<h3>Run history:</h3><br/><style>\n",
              "    table.wandb td:nth-child(1) { padding: 0 10px; text-align: right }\n",
              "    </style><table class=\"wandb\">\n",
              "<tr><td>_runtime</td><td>▁</td></tr><tr><td>_timestamp</td><td>▁</td></tr><tr><td>_step</td><td>▁</td></tr></table><br/>"
            ],
            "text/plain": [
              "<IPython.core.display.HTML object>"
            ]
          },
          "metadata": {
            "tags": []
          }
        },
        {
          "output_type": "display_data",
          "data": {
            "text/html": [
              "Synced 5 W&B file(s), 1 media file(s), 0 artifact file(s) and 0 other file(s)"
            ],
            "text/plain": [
              "<IPython.core.display.HTML object>"
            ]
          },
          "metadata": {
            "tags": []
          }
        },
        {
          "output_type": "display_data",
          "data": {
            "text/html": [
              "\n",
              "                    <br/>Synced <strong style=\"color:#cdcd00\">electric-hill-29</strong>: <a href=\"https://wandb.ai/vs74/Expand-ai-problem-2/runs/kcdgfxka\" target=\"_blank\">https://wandb.ai/vs74/Expand-ai-problem-2/runs/kcdgfxka</a><br/>\n",
              "                "
            ],
            "text/plain": [
              "<IPython.core.display.HTML object>"
            ]
          },
          "metadata": {
            "tags": []
          }
        },
        {
          "output_type": "display_data",
          "data": {
            "text/html": [
              "...Successfully finished last run (ID:kcdgfxka). Initializing new run:<br/><br/>"
            ],
            "text/plain": [
              "<IPython.core.display.HTML object>"
            ]
          },
          "metadata": {
            "tags": []
          }
        },
        {
          "output_type": "display_data",
          "data": {
            "text/html": [
              "\n",
              "                Tracking run with wandb version 0.10.32<br/>\n",
              "                Syncing run <strong style=\"color:#cdcd00\">polar-gorge-30</strong> to <a href=\"https://wandb.ai\" target=\"_blank\">Weights & Biases</a> <a href=\"https://docs.wandb.com/integrations/jupyter.html\" target=\"_blank\">(Documentation)</a>.<br/>\n",
              "                Project page: <a href=\"https://wandb.ai/vs74/Expand-ai-problem-2\" target=\"_blank\">https://wandb.ai/vs74/Expand-ai-problem-2</a><br/>\n",
              "                Run page: <a href=\"https://wandb.ai/vs74/Expand-ai-problem-2/runs/1i6a6956\" target=\"_blank\">https://wandb.ai/vs74/Expand-ai-problem-2/runs/1i6a6956</a><br/>\n",
              "                Run data is saved locally in <code>/content/wandb/run-20210616_124946-1i6a6956</code><br/><br/>\n",
              "            "
            ],
            "text/plain": [
              "<IPython.core.display.HTML object>"
            ]
          },
          "metadata": {
            "tags": []
          }
        },
        {
          "output_type": "stream",
          "text": [
            "********Training has started***************\n",
            "\n",
            " Epoch: [1 | 30]\n",
            "(1/1024) Data: 0.186s | Batch: 0.823s | Total: 0:00:00 | ETA: 0:00:00 | Loss: 1.1212 | Loss_x: 1.0780 | Loss_u: 0.0173 | W: 2.5000\n",
            "(2/1024) Data: 0.171s | Batch: 0.789s | Total: 0:00:01 | ETA: 0:00:00 | Loss: 1.1019 | Loss_x: 1.0649 | Loss_u: 0.0148 | W: 2.5012\n",
            "(3/1024) Data: 0.167s | Batch: 0.777s | Total: 0:00:02 | ETA: 0:00:00 | Loss: 1.0601 | Loss_x: 1.0300 | Loss_u: 0.0120 | W: 2.5024\n",
            "(4/1024) Data: 0.164s | Batch: 0.770s | Total: 0:00:03 | ETA: 0:00:00 | Loss: 1.0201 | Loss_x: 0.9908 | Loss_u: 0.0117 | W: 2.5037\n",
            "(5/1024) Data: 0.163s | Batch: 0.767s | Total: 0:00:03 | ETA: 0:00:00 | Loss: 1.0206 | Loss_x: 0.9877 | Loss_u: 0.0132 | W: 2.5049\n",
            "(6/1024) Data: 0.162s | Batch: 0.765s | Total: 0:00:04 | ETA: 0:00:00 | Loss: 1.0003 | Loss_x: 0.9660 | Loss_u: 0.0137 | W: 2.5061\n",
            "(7/1024) Data: 0.162s | Batch: 0.764s | Total: 0:00:05 | ETA: 0:00:00 | Loss: 0.9570 | Loss_x: 0.9217 | Loss_u: 0.0141 | W: 2.5073\n",
            "(8/1024) Data: 0.162s | Batch: 0.764s | Total: 0:00:06 | ETA: 0:00:00 | Loss: 0.9172 | Loss_x: 0.8827 | Loss_u: 0.0137 | W: 2.5085\n",
            "(9/1024) Data: 0.162s | Batch: 0.763s | Total: 0:00:06 | ETA: 0:00:00 | Loss: 0.8738 | Loss_x: 0.8407 | Loss_u: 0.0132 | W: 2.5098\n",
            "(10/1024) Data: 0.162s | Batch: 0.762s | Total: 0:00:07 | ETA: 0:00:00 | Loss: 0.8323 | Loss_x: 0.7986 | Loss_u: 0.0134 | W: 2.5110\n",
            "(11/1024) Data: 0.161s | Batch: 0.762s | Total: 0:00:08 | ETA: 0:00:00 | Loss: 0.8348 | Loss_x: 0.7999 | Loss_u: 0.0139 | W: 2.5122\n",
            "(12/1024) Data: 0.162s | Batch: 0.762s | Total: 0:00:09 | ETA: 0:00:00 | Loss: 0.7977 | Loss_x: 0.7637 | Loss_u: 0.0135 | W: 2.5134\n",
            "(13/1024) Data: 0.161s | Batch: 0.761s | Total: 0:00:09 | ETA: 0:00:00 | Loss: 0.7829 | Loss_x: 0.7490 | Loss_u: 0.0135 | W: 2.5146\n",
            "(14/1024) Data: 0.162s | Batch: 0.762s | Total: 0:00:10 | ETA: 0:00:00 | Loss: 0.7943 | Loss_x: 0.7567 | Loss_u: 0.0150 | W: 2.5159\n",
            "(15/1024) Data: 0.161s | Batch: 0.760s | Total: 0:00:11 | ETA: 0:00:00 | Loss: 0.7703 | Loss_x: 0.7330 | Loss_u: 0.0148 | W: 2.5171\n",
            "(16/1024) Data: 0.161s | Batch: 0.760s | Total: 0:00:12 | ETA: 0:00:00 | Loss: 0.7521 | Loss_x: 0.7153 | Loss_u: 0.0146 | W: 2.5183\n",
            "(17/1024) Data: 0.161s | Batch: 0.760s | Total: 0:00:12 | ETA: 0:00:00 | Loss: 0.7524 | Loss_x: 0.7149 | Loss_u: 0.0149 | W: 2.5195\n",
            "(18/1024) Data: 0.161s | Batch: 0.761s | Total: 0:00:13 | ETA: 0:00:00 | Loss: 0.7516 | Loss_x: 0.7143 | Loss_u: 0.0148 | W: 2.5208\n",
            "(19/1024) Data: 0.160s | Batch: 0.760s | Total: 0:00:14 | ETA: 0:00:00 | Loss: 0.7313 | Loss_x: 0.6943 | Loss_u: 0.0147 | W: 2.5220\n",
            "(20/1024) Data: 0.160s | Batch: 0.760s | Total: 0:00:15 | ETA: 0:00:00 | Loss: 0.7077 | Loss_x: 0.6720 | Loss_u: 0.0142 | W: 2.5232\n",
            "(21/1024) Data: 0.160s | Batch: 0.761s | Total: 0:00:15 | ETA: 0:00:00 | Loss: 0.6945 | Loss_x: 0.6589 | Loss_u: 0.0141 | W: 2.5244\n",
            "(22/1024) Data: 0.161s | Batch: 0.761s | Total: 0:00:16 | ETA: 0:00:00 | Loss: 0.6834 | Loss_x: 0.6477 | Loss_u: 0.0142 | W: 2.5256\n",
            "(23/1024) Data: 0.161s | Batch: 0.762s | Total: 0:00:17 | ETA: 0:00:00 | Loss: 0.6799 | Loss_x: 0.6426 | Loss_u: 0.0148 | W: 2.5269\n",
            "(24/1024) Data: 0.161s | Batch: 0.762s | Total: 0:00:18 | ETA: 0:00:00 | Loss: 0.6922 | Loss_x: 0.6509 | Loss_u: 0.0163 | W: 2.5281\n",
            "(25/1024) Data: 0.161s | Batch: 0.762s | Total: 0:00:19 | ETA: 0:00:00 | Loss: 0.7097 | Loss_x: 0.6652 | Loss_u: 0.0175 | W: 2.5293\n",
            "(26/1024) Data: 0.161s | Batch: 0.762s | Total: 0:00:19 | ETA: 0:00:00 | Loss: 0.7248 | Loss_x: 0.6786 | Loss_u: 0.0182 | W: 2.5305\n",
            "(27/1024) Data: 0.162s | Batch: 0.763s | Total: 0:00:20 | ETA: 0:00:00 | Loss: 0.7212 | Loss_x: 0.6741 | Loss_u: 0.0185 | W: 2.5317\n",
            "(28/1024) Data: 0.162s | Batch: 0.763s | Total: 0:00:21 | ETA: 0:00:00 | Loss: 0.7012 | Loss_x: 0.6551 | Loss_u: 0.0182 | W: 2.5330\n",
            "(29/1024) Data: 0.162s | Batch: 0.763s | Total: 0:00:22 | ETA: 0:00:00 | Loss: 0.6904 | Loss_x: 0.6447 | Loss_u: 0.0180 | W: 2.5342\n",
            "(30/1024) Data: 0.162s | Batch: 0.764s | Total: 0:00:22 | ETA: 0:00:00 | Loss: 0.6783 | Loss_x: 0.6328 | Loss_u: 0.0179 | W: 2.5354\n",
            "(31/1024) Data: 0.162s | Batch: 0.764s | Total: 0:00:23 | ETA: 0:00:00 | Loss: 0.6711 | Loss_x: 0.6262 | Loss_u: 0.0177 | W: 2.5366\n",
            "(32/1024) Data: 0.162s | Batch: 0.764s | Total: 0:00:24 | ETA: 0:00:00 | Loss: 0.6781 | Loss_x: 0.6322 | Loss_u: 0.0181 | W: 2.5378\n",
            "(33/1024) Data: 0.162s | Batch: 0.764s | Total: 0:00:25 | ETA: 0:00:00 | Loss: 0.6631 | Loss_x: 0.6182 | Loss_u: 0.0177 | W: 2.5391\n",
            "(34/1024) Data: 0.162s | Batch: 0.764s | Total: 0:00:25 | ETA: 0:00:00 | Loss: 0.6581 | Loss_x: 0.6131 | Loss_u: 0.0177 | W: 2.5403\n",
            "(35/1024) Data: 0.163s | Batch: 0.765s | Total: 0:00:26 | ETA: 0:00:00 | Loss: 0.6525 | Loss_x: 0.6082 | Loss_u: 0.0174 | W: 2.5415\n",
            "(36/1024) Data: 0.163s | Batch: 0.765s | Total: 0:00:27 | ETA: 0:00:00 | Loss: 0.6551 | Loss_x: 0.6106 | Loss_u: 0.0175 | W: 2.5427\n",
            "(37/1024) Data: 0.162s | Batch: 0.765s | Total: 0:00:28 | ETA: 0:00:00 | Loss: 0.6499 | Loss_x: 0.6056 | Loss_u: 0.0174 | W: 2.5439\n",
            "(38/1024) Data: 0.162s | Batch: 0.765s | Total: 0:00:29 | ETA: 0:00:00 | Loss: 0.6575 | Loss_x: 0.6120 | Loss_u: 0.0178 | W: 2.5452\n",
            "(39/1024) Data: 0.162s | Batch: 0.766s | Total: 0:00:29 | ETA: 0:00:00 | Loss: 0.6654 | Loss_x: 0.6197 | Loss_u: 0.0179 | W: 2.5464\n",
            "(40/1024) Data: 0.163s | Batch: 0.766s | Total: 0:00:30 | ETA: 0:00:00 | Loss: 0.6665 | Loss_x: 0.6207 | Loss_u: 0.0180 | W: 2.5476\n",
            "(41/1024) Data: 0.162s | Batch: 0.766s | Total: 0:00:31 | ETA: 0:00:00 | Loss: 0.6556 | Loss_x: 0.6103 | Loss_u: 0.0177 | W: 2.5488\n",
            "(42/1024) Data: 0.162s | Batch: 0.766s | Total: 0:00:32 | ETA: 0:00:00 | Loss: 0.6474 | Loss_x: 0.6030 | Loss_u: 0.0174 | W: 2.5500\n",
            "(43/1024) Data: 0.162s | Batch: 0.766s | Total: 0:00:32 | ETA: 0:00:00 | Loss: 0.6475 | Loss_x: 0.6032 | Loss_u: 0.0174 | W: 2.5513\n",
            "(44/1024) Data: 0.163s | Batch: 0.767s | Total: 0:00:33 | ETA: 0:00:00 | Loss: 0.6476 | Loss_x: 0.6028 | Loss_u: 0.0175 | W: 2.5525\n",
            "(45/1024) Data: 0.163s | Batch: 0.767s | Total: 0:00:34 | ETA: 0:00:00 | Loss: 0.6485 | Loss_x: 0.6033 | Loss_u: 0.0177 | W: 2.5537\n",
            "(46/1024) Data: 0.163s | Batch: 0.767s | Total: 0:00:35 | ETA: 0:00:00 | Loss: 0.6553 | Loss_x: 0.6093 | Loss_u: 0.0180 | W: 2.5549\n",
            "(47/1024) Data: 0.163s | Batch: 0.767s | Total: 0:00:36 | ETA: 0:00:00 | Loss: 0.6476 | Loss_x: 0.6021 | Loss_u: 0.0178 | W: 2.5562\n",
            "(48/1024) Data: 0.163s | Batch: 0.768s | Total: 0:00:36 | ETA: 0:00:00 | Loss: 0.6427 | Loss_x: 0.5976 | Loss_u: 0.0176 | W: 2.5574\n",
            "(49/1024) Data: 0.163s | Batch: 0.768s | Total: 0:00:37 | ETA: 0:00:00 | Loss: 0.6401 | Loss_x: 0.5944 | Loss_u: 0.0178 | W: 2.5586\n",
            "(50/1024) Data: 0.163s | Batch: 0.768s | Total: 0:00:38 | ETA: 0:00:00 | Loss: 0.6385 | Loss_x: 0.5932 | Loss_u: 0.0177 | W: 2.5598\n",
            "(51/1024) Data: 0.163s | Batch: 0.768s | Total: 0:00:39 | ETA: 0:00:00 | Loss: 0.6413 | Loss_x: 0.5956 | Loss_u: 0.0178 | W: 2.5610\n",
            "(52/1024) Data: 0.163s | Batch: 0.769s | Total: 0:00:39 | ETA: 0:00:00 | Loss: 0.6473 | Loss_x: 0.6008 | Loss_u: 0.0181 | W: 2.5623\n",
            "(53/1024) Data: 0.163s | Batch: 0.769s | Total: 0:00:40 | ETA: 0:00:00 | Loss: 0.6483 | Loss_x: 0.6009 | Loss_u: 0.0185 | W: 2.5635\n",
            "(54/1024) Data: 0.163s | Batch: 0.769s | Total: 0:00:41 | ETA: 0:00:00 | Loss: 0.6481 | Loss_x: 0.6007 | Loss_u: 0.0184 | W: 2.5647\n",
            "(55/1024) Data: 0.163s | Batch: 0.769s | Total: 0:00:42 | ETA: 0:00:00 | Loss: 0.6435 | Loss_x: 0.5962 | Loss_u: 0.0184 | W: 2.5659\n",
            "(56/1024) Data: 0.163s | Batch: 0.770s | Total: 0:00:43 | ETA: 0:00:00 | Loss: 0.6483 | Loss_x: 0.6007 | Loss_u: 0.0185 | W: 2.5671\n",
            "(57/1024) Data: 0.163s | Batch: 0.770s | Total: 0:00:43 | ETA: 0:00:00 | Loss: 0.6409 | Loss_x: 0.5935 | Loss_u: 0.0184 | W: 2.5684\n",
            "(58/1024) Data: 0.163s | Batch: 0.770s | Total: 0:00:44 | ETA: 0:00:00 | Loss: 0.6437 | Loss_x: 0.5963 | Loss_u: 0.0184 | W: 2.5696\n",
            "(59/1024) Data: 0.163s | Batch: 0.770s | Total: 0:00:45 | ETA: 0:00:00 | Loss: 0.6364 | Loss_x: 0.5893 | Loss_u: 0.0183 | W: 2.5708\n",
            "(60/1024) Data: 0.163s | Batch: 0.770s | Total: 0:00:46 | ETA: 0:00:00 | Loss: 0.6405 | Loss_x: 0.5929 | Loss_u: 0.0185 | W: 2.5720\n",
            "(61/1024) Data: 0.163s | Batch: 0.771s | Total: 0:00:47 | ETA: 0:00:00 | Loss: 0.6390 | Loss_x: 0.5914 | Loss_u: 0.0185 | W: 2.5732\n",
            "(62/1024) Data: 0.163s | Batch: 0.771s | Total: 0:00:47 | ETA: 0:00:00 | Loss: 0.6311 | Loss_x: 0.5837 | Loss_u: 0.0184 | W: 2.5745\n",
            "(63/1024) Data: 0.163s | Batch: 0.771s | Total: 0:00:48 | ETA: 0:00:00 | Loss: 0.6235 | Loss_x: 0.5765 | Loss_u: 0.0182 | W: 2.5757\n",
            "(64/1024) Data: 0.163s | Batch: 0.772s | Total: 0:00:49 | ETA: 0:00:00 | Loss: 0.6305 | Loss_x: 0.5832 | Loss_u: 0.0183 | W: 2.5769\n",
            "(65/1024) Data: 0.163s | Batch: 0.772s | Total: 0:00:50 | ETA: 0:00:00 | Loss: 0.6276 | Loss_x: 0.5805 | Loss_u: 0.0183 | W: 2.5781\n",
            "(66/1024) Data: 0.163s | Batch: 0.772s | Total: 0:00:50 | ETA: 0:00:00 | Loss: 0.6299 | Loss_x: 0.5826 | Loss_u: 0.0183 | W: 2.5793\n",
            "(67/1024) Data: 0.163s | Batch: 0.772s | Total: 0:00:51 | ETA: 0:00:00 | Loss: 0.6243 | Loss_x: 0.5772 | Loss_u: 0.0182 | W: 2.5806\n",
            "(68/1024) Data: 0.163s | Batch: 0.773s | Total: 0:00:52 | ETA: 0:00:00 | Loss: 0.6252 | Loss_x: 0.5782 | Loss_u: 0.0182 | W: 2.5818\n",
            "(69/1024) Data: 0.163s | Batch: 0.773s | Total: 0:00:53 | ETA: 0:00:00 | Loss: 0.6216 | Loss_x: 0.5747 | Loss_u: 0.0181 | W: 2.5830\n",
            "(70/1024) Data: 0.163s | Batch: 0.773s | Total: 0:00:54 | ETA: 0:00:00 | Loss: 0.6190 | Loss_x: 0.5725 | Loss_u: 0.0180 | W: 2.5842\n",
            "(71/1024) Data: 0.163s | Batch: 0.773s | Total: 0:00:54 | ETA: 0:00:00 | Loss: 0.6133 | Loss_x: 0.5672 | Loss_u: 0.0178 | W: 2.5854\n",
            "(72/1024) Data: 0.163s | Batch: 0.773s | Total: 0:00:55 | ETA: 0:00:00 | Loss: 0.6131 | Loss_x: 0.5672 | Loss_u: 0.0177 | W: 2.5867\n",
            "(73/1024) Data: 0.163s | Batch: 0.773s | Total: 0:00:56 | ETA: 0:00:00 | Loss: 0.6098 | Loss_x: 0.5642 | Loss_u: 0.0176 | W: 2.5879\n",
            "(74/1024) Data: 0.163s | Batch: 0.773s | Total: 0:00:57 | ETA: 0:00:00 | Loss: 0.6125 | Loss_x: 0.5666 | Loss_u: 0.0177 | W: 2.5891\n",
            "(75/1024) Data: 0.163s | Batch: 0.774s | Total: 0:00:58 | ETA: 0:00:00 | Loss: 0.6075 | Loss_x: 0.5618 | Loss_u: 0.0176 | W: 2.5903\n",
            "(76/1024) Data: 0.164s | Batch: 0.774s | Total: 0:00:58 | ETA: 0:00:00 | Loss: 0.6080 | Loss_x: 0.5617 | Loss_u: 0.0179 | W: 2.5916\n",
            "(77/1024) Data: 0.163s | Batch: 0.774s | Total: 0:00:59 | ETA: 0:00:00 | Loss: 0.6090 | Loss_x: 0.5623 | Loss_u: 0.0180 | W: 2.5928\n",
            "(78/1024) Data: 0.163s | Batch: 0.774s | Total: 0:01:00 | ETA: 0:00:00 | Loss: 0.6057 | Loss_x: 0.5591 | Loss_u: 0.0179 | W: 2.5940\n",
            "(79/1024) Data: 0.163s | Batch: 0.774s | Total: 0:01:01 | ETA: 0:00:00 | Loss: 0.6070 | Loss_x: 0.5603 | Loss_u: 0.0180 | W: 2.5952\n",
            "(80/1024) Data: 0.163s | Batch: 0.774s | Total: 0:01:01 | ETA: 0:00:00 | Loss: 0.6081 | Loss_x: 0.5613 | Loss_u: 0.0180 | W: 2.5964\n",
            "(81/1024) Data: 0.163s | Batch: 0.774s | Total: 0:01:02 | ETA: 0:00:00 | Loss: 0.6112 | Loss_x: 0.5641 | Loss_u: 0.0181 | W: 2.5977\n",
            "(82/1024) Data: 0.163s | Batch: 0.775s | Total: 0:01:03 | ETA: 0:00:00 | Loss: 0.6071 | Loss_x: 0.5603 | Loss_u: 0.0180 | W: 2.5989\n",
            "(83/1024) Data: 0.163s | Batch: 0.775s | Total: 0:01:04 | ETA: 0:00:00 | Loss: 0.6102 | Loss_x: 0.5630 | Loss_u: 0.0181 | W: 2.6001\n",
            "(84/1024) Data: 0.163s | Batch: 0.775s | Total: 0:01:05 | ETA: 0:00:00 | Loss: 0.6111 | Loss_x: 0.5639 | Loss_u: 0.0181 | W: 2.6013\n",
            "(85/1024) Data: 0.163s | Batch: 0.775s | Total: 0:01:05 | ETA: 0:00:00 | Loss: 0.6073 | Loss_x: 0.5604 | Loss_u: 0.0180 | W: 2.6025\n",
            "(86/1024) Data: 0.163s | Batch: 0.775s | Total: 0:01:06 | ETA: 0:00:00 | Loss: 0.6061 | Loss_x: 0.5592 | Loss_u: 0.0180 | W: 2.6038\n",
            "(87/1024) Data: 0.163s | Batch: 0.775s | Total: 0:01:07 | ETA: 0:00:00 | Loss: 0.6039 | Loss_x: 0.5573 | Loss_u: 0.0179 | W: 2.6050\n",
            "(88/1024) Data: 0.163s | Batch: 0.776s | Total: 0:01:08 | ETA: 0:00:00 | Loss: 0.5997 | Loss_x: 0.5530 | Loss_u: 0.0179 | W: 2.6062\n",
            "(89/1024) Data: 0.163s | Batch: 0.776s | Total: 0:01:09 | ETA: 0:00:00 | Loss: 0.5968 | Loss_x: 0.5501 | Loss_u: 0.0179 | W: 2.6074\n",
            "(90/1024) Data: 0.163s | Batch: 0.776s | Total: 0:01:09 | ETA: 0:00:00 | Loss: 0.5987 | Loss_x: 0.5520 | Loss_u: 0.0179 | W: 2.6086\n",
            "(91/1024) Data: 0.163s | Batch: 0.776s | Total: 0:01:10 | ETA: 0:00:00 | Loss: 0.5935 | Loss_x: 0.5471 | Loss_u: 0.0178 | W: 2.6099\n",
            "(92/1024) Data: 0.163s | Batch: 0.776s | Total: 0:01:11 | ETA: 0:00:00 | Loss: 0.5920 | Loss_x: 0.5455 | Loss_u: 0.0178 | W: 2.6111\n",
            "(93/1024) Data: 0.163s | Batch: 0.776s | Total: 0:01:12 | ETA: 0:00:00 | Loss: 0.5903 | Loss_x: 0.5438 | Loss_u: 0.0178 | W: 2.6123\n",
            "(94/1024) Data: 0.163s | Batch: 0.776s | Total: 0:01:12 | ETA: 0:00:00 | Loss: 0.5875 | Loss_x: 0.5412 | Loss_u: 0.0177 | W: 2.6135\n",
            "(95/1024) Data: 0.163s | Batch: 0.776s | Total: 0:01:13 | ETA: 0:00:00 | Loss: 0.5852 | Loss_x: 0.5391 | Loss_u: 0.0176 | W: 2.6147\n",
            "(96/1024) Data: 0.163s | Batch: 0.776s | Total: 0:01:14 | ETA: 0:00:00 | Loss: 0.5811 | Loss_x: 0.5351 | Loss_u: 0.0176 | W: 2.6160\n",
            "(97/1024) Data: 0.163s | Batch: 0.776s | Total: 0:01:15 | ETA: 0:00:00 | Loss: 0.5829 | Loss_x: 0.5366 | Loss_u: 0.0177 | W: 2.6172\n",
            "(98/1024) Data: 0.163s | Batch: 0.776s | Total: 0:01:16 | ETA: 0:00:00 | Loss: 0.5782 | Loss_x: 0.5322 | Loss_u: 0.0176 | W: 2.6184\n",
            "(99/1024) Data: 0.163s | Batch: 0.776s | Total: 0:01:16 | ETA: 0:00:00 | Loss: 0.5791 | Loss_x: 0.5328 | Loss_u: 0.0177 | W: 2.6196\n",
            "(100/1024) Data: 0.163s | Batch: 0.776s | Total: 0:01:17 | ETA: 0:00:00 | Loss: 0.5794 | Loss_x: 0.5330 | Loss_u: 0.0177 | W: 2.6208\n",
            "(101/1024) Data: 0.163s | Batch: 0.776s | Total: 0:01:18 | ETA: 0:00:00 | Loss: 0.5816 | Loss_x: 0.5350 | Loss_u: 0.0178 | W: 2.6221\n",
            "(102/1024) Data: 0.163s | Batch: 0.776s | Total: 0:01:19 | ETA: 0:00:00 | Loss: 0.5845 | Loss_x: 0.5376 | Loss_u: 0.0179 | W: 2.6233\n",
            "(103/1024) Data: 0.163s | Batch: 0.776s | Total: 0:01:19 | ETA: 0:00:00 | Loss: 0.5839 | Loss_x: 0.5373 | Loss_u: 0.0178 | W: 2.6245\n",
            "(104/1024) Data: 0.163s | Batch: 0.777s | Total: 0:01:20 | ETA: 0:00:00 | Loss: 0.5808 | Loss_x: 0.5344 | Loss_u: 0.0177 | W: 2.6257\n",
            "(105/1024) Data: 0.163s | Batch: 0.777s | Total: 0:01:21 | ETA: 0:00:00 | Loss: 0.5767 | Loss_x: 0.5305 | Loss_u: 0.0176 | W: 2.6270\n",
            "(106/1024) Data: 0.163s | Batch: 0.777s | Total: 0:01:22 | ETA: 0:00:00 | Loss: 0.5740 | Loss_x: 0.5280 | Loss_u: 0.0175 | W: 2.6282\n",
            "(107/1024) Data: 0.163s | Batch: 0.777s | Total: 0:01:23 | ETA: 0:00:00 | Loss: 0.5743 | Loss_x: 0.5281 | Loss_u: 0.0176 | W: 2.6294\n",
            "(108/1024) Data: 0.163s | Batch: 0.777s | Total: 0:01:23 | ETA: 0:00:00 | Loss: 0.5730 | Loss_x: 0.5269 | Loss_u: 0.0175 | W: 2.6306\n",
            "(109/1024) Data: 0.163s | Batch: 0.777s | Total: 0:01:24 | ETA: 0:00:00 | Loss: 0.5726 | Loss_x: 0.5268 | Loss_u: 0.0174 | W: 2.6318\n",
            "(110/1024) Data: 0.163s | Batch: 0.777s | Total: 0:01:25 | ETA: 0:00:00 | Loss: 0.5722 | Loss_x: 0.5263 | Loss_u: 0.0174 | W: 2.6331\n",
            "(111/1024) Data: 0.163s | Batch: 0.777s | Total: 0:01:26 | ETA: 0:00:00 | Loss: 0.5736 | Loss_x: 0.5275 | Loss_u: 0.0175 | W: 2.6343\n",
            "(112/1024) Data: 0.163s | Batch: 0.777s | Total: 0:01:26 | ETA: 0:00:00 | Loss: 0.5725 | Loss_x: 0.5267 | Loss_u: 0.0174 | W: 2.6355\n",
            "(113/1024) Data: 0.163s | Batch: 0.777s | Total: 0:01:27 | ETA: 0:00:00 | Loss: 0.5689 | Loss_x: 0.5233 | Loss_u: 0.0173 | W: 2.6367\n",
            "(114/1024) Data: 0.164s | Batch: 0.777s | Total: 0:01:28 | ETA: 0:00:00 | Loss: 0.5677 | Loss_x: 0.5222 | Loss_u: 0.0173 | W: 2.6379\n",
            "(115/1024) Data: 0.164s | Batch: 0.777s | Total: 0:01:29 | ETA: 0:00:00 | Loss: 0.5651 | Loss_x: 0.5198 | Loss_u: 0.0172 | W: 2.6392\n",
            "(116/1024) Data: 0.164s | Batch: 0.777s | Total: 0:01:30 | ETA: 0:00:00 | Loss: 0.5641 | Loss_x: 0.5188 | Loss_u: 0.0172 | W: 2.6404\n",
            "(117/1024) Data: 0.164s | Batch: 0.777s | Total: 0:01:30 | ETA: 0:00:00 | Loss: 0.5650 | Loss_x: 0.5197 | Loss_u: 0.0172 | W: 2.6416\n",
            "(118/1024) Data: 0.164s | Batch: 0.777s | Total: 0:01:31 | ETA: 0:00:00 | Loss: 0.5667 | Loss_x: 0.5213 | Loss_u: 0.0172 | W: 2.6428\n",
            "(119/1024) Data: 0.164s | Batch: 0.777s | Total: 0:01:32 | ETA: 0:00:00 | Loss: 0.5645 | Loss_x: 0.5192 | Loss_u: 0.0172 | W: 2.6440\n",
            "(120/1024) Data: 0.164s | Batch: 0.777s | Total: 0:01:33 | ETA: 0:00:00 | Loss: 0.5663 | Loss_x: 0.5209 | Loss_u: 0.0172 | W: 2.6453\n",
            "(121/1024) Data: 0.164s | Batch: 0.777s | Total: 0:01:33 | ETA: 0:00:00 | Loss: 0.5655 | Loss_x: 0.5201 | Loss_u: 0.0172 | W: 2.6465\n",
            "(122/1024) Data: 0.164s | Batch: 0.777s | Total: 0:01:34 | ETA: 0:00:00 | Loss: 0.5640 | Loss_x: 0.5189 | Loss_u: 0.0171 | W: 2.6477\n",
            "(123/1024) Data: 0.164s | Batch: 0.777s | Total: 0:01:35 | ETA: 0:00:00 | Loss: 0.5633 | Loss_x: 0.5183 | Loss_u: 0.0170 | W: 2.6489\n",
            "(124/1024) Data: 0.164s | Batch: 0.777s | Total: 0:01:36 | ETA: 0:00:00 | Loss: 0.5661 | Loss_x: 0.5207 | Loss_u: 0.0172 | W: 2.6501\n",
            "(125/1024) Data: 0.164s | Batch: 0.777s | Total: 0:01:37 | ETA: 0:00:00 | Loss: 0.5653 | Loss_x: 0.5201 | Loss_u: 0.0171 | W: 2.6514\n",
            "(126/1024) Data: 0.164s | Batch: 0.777s | Total: 0:01:37 | ETA: 0:00:00 | Loss: 0.5656 | Loss_x: 0.5202 | Loss_u: 0.0171 | W: 2.6526\n",
            "(127/1024) Data: 0.164s | Batch: 0.777s | Total: 0:01:38 | ETA: 0:00:00 | Loss: 0.5643 | Loss_x: 0.5190 | Loss_u: 0.0171 | W: 2.6538\n",
            "(128/1024) Data: 0.164s | Batch: 0.777s | Total: 0:01:39 | ETA: 0:00:00 | Loss: 0.5654 | Loss_x: 0.5199 | Loss_u: 0.0172 | W: 2.6550\n",
            "(129/1024) Data: 0.164s | Batch: 0.777s | Total: 0:01:40 | ETA: 0:00:00 | Loss: 0.5626 | Loss_x: 0.5171 | Loss_u: 0.0172 | W: 2.6562\n",
            "(130/1024) Data: 0.164s | Batch: 0.777s | Total: 0:01:40 | ETA: 0:00:00 | Loss: 0.5647 | Loss_x: 0.5190 | Loss_u: 0.0172 | W: 2.6575\n",
            "(131/1024) Data: 0.164s | Batch: 0.777s | Total: 0:01:41 | ETA: 0:00:00 | Loss: 0.5654 | Loss_x: 0.5195 | Loss_u: 0.0173 | W: 2.6587\n",
            "(132/1024) Data: 0.164s | Batch: 0.777s | Total: 0:01:42 | ETA: 0:00:00 | Loss: 0.5648 | Loss_x: 0.5190 | Loss_u: 0.0172 | W: 2.6599\n",
            "(133/1024) Data: 0.164s | Batch: 0.777s | Total: 0:01:43 | ETA: 0:00:00 | Loss: 0.5651 | Loss_x: 0.5191 | Loss_u: 0.0173 | W: 2.6611\n",
            "(134/1024) Data: 0.164s | Batch: 0.776s | Total: 0:01:44 | ETA: 0:00:00 | Loss: 0.5633 | Loss_x: 0.5175 | Loss_u: 0.0172 | W: 2.6624\n",
            "(135/1024) Data: 0.164s | Batch: 0.777s | Total: 0:01:44 | ETA: 0:00:00 | Loss: 0.5637 | Loss_x: 0.5179 | Loss_u: 0.0172 | W: 2.6636\n",
            "(136/1024) Data: 0.164s | Batch: 0.776s | Total: 0:01:45 | ETA: 0:00:00 | Loss: 0.5630 | Loss_x: 0.5174 | Loss_u: 0.0172 | W: 2.6648\n",
            "(137/1024) Data: 0.164s | Batch: 0.776s | Total: 0:01:46 | ETA: 0:00:00 | Loss: 0.5641 | Loss_x: 0.5183 | Loss_u: 0.0172 | W: 2.6660\n",
            "(138/1024) Data: 0.164s | Batch: 0.776s | Total: 0:01:47 | ETA: 0:00:00 | Loss: 0.5610 | Loss_x: 0.5153 | Loss_u: 0.0172 | W: 2.6672\n",
            "(139/1024) Data: 0.164s | Batch: 0.777s | Total: 0:01:47 | ETA: 0:00:00 | Loss: 0.5598 | Loss_x: 0.5142 | Loss_u: 0.0171 | W: 2.6685\n",
            "(140/1024) Data: 0.164s | Batch: 0.777s | Total: 0:01:48 | ETA: 0:00:00 | Loss: 0.5609 | Loss_x: 0.5152 | Loss_u: 0.0171 | W: 2.6697\n",
            "(141/1024) Data: 0.164s | Batch: 0.777s | Total: 0:01:49 | ETA: 0:00:00 | Loss: 0.5619 | Loss_x: 0.5161 | Loss_u: 0.0172 | W: 2.6709\n",
            "(142/1024) Data: 0.164s | Batch: 0.777s | Total: 0:01:50 | ETA: 0:00:00 | Loss: 0.5615 | Loss_x: 0.5156 | Loss_u: 0.0172 | W: 2.6721\n",
            "(143/1024) Data: 0.164s | Batch: 0.777s | Total: 0:01:51 | ETA: 0:00:00 | Loss: 0.5604 | Loss_x: 0.5146 | Loss_u: 0.0172 | W: 2.6733\n",
            "(144/1024) Data: 0.164s | Batch: 0.777s | Total: 0:01:51 | ETA: 0:00:00 | Loss: 0.5605 | Loss_x: 0.5147 | Loss_u: 0.0171 | W: 2.6746\n",
            "(145/1024) Data: 0.164s | Batch: 0.777s | Total: 0:01:52 | ETA: 0:00:00 | Loss: 0.5607 | Loss_x: 0.5151 | Loss_u: 0.0171 | W: 2.6758\n",
            "(146/1024) Data: 0.164s | Batch: 0.777s | Total: 0:01:53 | ETA: 0:00:00 | Loss: 0.5595 | Loss_x: 0.5140 | Loss_u: 0.0171 | W: 2.6770\n",
            "(147/1024) Data: 0.164s | Batch: 0.777s | Total: 0:01:54 | ETA: 0:00:00 | Loss: 0.5593 | Loss_x: 0.5137 | Loss_u: 0.0170 | W: 2.6782\n",
            "(148/1024) Data: 0.164s | Batch: 0.777s | Total: 0:01:54 | ETA: 0:00:00 | Loss: 0.5575 | Loss_x: 0.5119 | Loss_u: 0.0170 | W: 2.6794\n",
            "(149/1024) Data: 0.164s | Batch: 0.777s | Total: 0:01:55 | ETA: 0:00:00 | Loss: 0.5562 | Loss_x: 0.5109 | Loss_u: 0.0169 | W: 2.6807\n",
            "(150/1024) Data: 0.164s | Batch: 0.777s | Total: 0:01:56 | ETA: 0:00:00 | Loss: 0.5556 | Loss_x: 0.5101 | Loss_u: 0.0170 | W: 2.6819\n",
            "(151/1024) Data: 0.164s | Batch: 0.777s | Total: 0:01:57 | ETA: 0:00:00 | Loss: 0.5569 | Loss_x: 0.5114 | Loss_u: 0.0170 | W: 2.6831\n",
            "(152/1024) Data: 0.164s | Batch: 0.776s | Total: 0:01:58 | ETA: 0:00:00 | Loss: 0.5560 | Loss_x: 0.5105 | Loss_u: 0.0170 | W: 2.6843\n",
            "(153/1024) Data: 0.164s | Batch: 0.776s | Total: 0:01:58 | ETA: 0:00:00 | Loss: 0.5549 | Loss_x: 0.5095 | Loss_u: 0.0170 | W: 2.6855\n",
            "(154/1024) Data: 0.164s | Batch: 0.776s | Total: 0:01:59 | ETA: 0:00:00 | Loss: 0.5522 | Loss_x: 0.5068 | Loss_u: 0.0169 | W: 2.6868\n",
            "(155/1024) Data: 0.164s | Batch: 0.776s | Total: 0:02:00 | ETA: 0:00:00 | Loss: 0.5503 | Loss_x: 0.5052 | Loss_u: 0.0168 | W: 2.6880\n",
            "(156/1024) Data: 0.164s | Batch: 0.777s | Total: 0:02:01 | ETA: 0:00:00 | Loss: 0.5498 | Loss_x: 0.5047 | Loss_u: 0.0168 | W: 2.6892\n",
            "(157/1024) Data: 0.164s | Batch: 0.776s | Total: 0:02:01 | ETA: 0:00:00 | Loss: 0.5505 | Loss_x: 0.5054 | Loss_u: 0.0168 | W: 2.6904\n",
            "(158/1024) Data: 0.164s | Batch: 0.776s | Total: 0:02:02 | ETA: 0:00:00 | Loss: 0.5511 | Loss_x: 0.5060 | Loss_u: 0.0168 | W: 2.6917\n",
            "(159/1024) Data: 0.164s | Batch: 0.776s | Total: 0:02:03 | ETA: 0:00:00 | Loss: 0.5496 | Loss_x: 0.5047 | Loss_u: 0.0167 | W: 2.6929\n",
            "(160/1024) Data: 0.164s | Batch: 0.776s | Total: 0:02:04 | ETA: 0:00:00 | Loss: 0.5468 | Loss_x: 0.5020 | Loss_u: 0.0167 | W: 2.6941\n",
            "(161/1024) Data: 0.164s | Batch: 0.776s | Total: 0:02:05 | ETA: 0:00:00 | Loss: 0.5471 | Loss_x: 0.5024 | Loss_u: 0.0166 | W: 2.6953\n",
            "(162/1024) Data: 0.164s | Batch: 0.776s | Total: 0:02:05 | ETA: 0:00:00 | Loss: 0.5457 | Loss_x: 0.5011 | Loss_u: 0.0166 | W: 2.6965\n",
            "(163/1024) Data: 0.164s | Batch: 0.777s | Total: 0:02:06 | ETA: 0:00:00 | Loss: 0.5439 | Loss_x: 0.4995 | Loss_u: 0.0165 | W: 2.6978\n",
            "(164/1024) Data: 0.164s | Batch: 0.777s | Total: 0:02:07 | ETA: 0:00:00 | Loss: 0.5451 | Loss_x: 0.5007 | Loss_u: 0.0165 | W: 2.6990\n",
            "(165/1024) Data: 0.164s | Batch: 0.777s | Total: 0:02:08 | ETA: 0:00:00 | Loss: 0.5452 | Loss_x: 0.5008 | Loss_u: 0.0165 | W: 2.7002\n",
            "(166/1024) Data: 0.164s | Batch: 0.777s | Total: 0:02:08 | ETA: 0:00:00 | Loss: 0.5475 | Loss_x: 0.5030 | Loss_u: 0.0165 | W: 2.7014\n",
            "(167/1024) Data: 0.164s | Batch: 0.777s | Total: 0:02:09 | ETA: 0:00:00 | Loss: 0.5475 | Loss_x: 0.5028 | Loss_u: 0.0166 | W: 2.7026\n",
            "(168/1024) Data: 0.164s | Batch: 0.777s | Total: 0:02:10 | ETA: 0:00:00 | Loss: 0.5453 | Loss_x: 0.5006 | Loss_u: 0.0166 | W: 2.7039\n",
            "(169/1024) Data: 0.164s | Batch: 0.777s | Total: 0:02:11 | ETA: 0:00:00 | Loss: 0.5435 | Loss_x: 0.4987 | Loss_u: 0.0166 | W: 2.7051\n",
            "(170/1024) Data: 0.164s | Batch: 0.777s | Total: 0:02:12 | ETA: 0:00:00 | Loss: 0.5431 | Loss_x: 0.4984 | Loss_u: 0.0166 | W: 2.7063\n",
            "(171/1024) Data: 0.164s | Batch: 0.777s | Total: 0:02:12 | ETA: 0:00:00 | Loss: 0.5445 | Loss_x: 0.4998 | Loss_u: 0.0166 | W: 2.7075\n",
            "(172/1024) Data: 0.164s | Batch: 0.777s | Total: 0:02:13 | ETA: 0:00:00 | Loss: 0.5444 | Loss_x: 0.4997 | Loss_u: 0.0166 | W: 2.7087\n",
            "(173/1024) Data: 0.164s | Batch: 0.777s | Total: 0:02:14 | ETA: 0:00:00 | Loss: 0.5440 | Loss_x: 0.4993 | Loss_u: 0.0165 | W: 2.7100\n",
            "(174/1024) Data: 0.164s | Batch: 0.777s | Total: 0:02:15 | ETA: 0:00:00 | Loss: 0.5452 | Loss_x: 0.5004 | Loss_u: 0.0166 | W: 2.7112\n",
            "(175/1024) Data: 0.164s | Batch: 0.777s | Total: 0:02:15 | ETA: 0:00:00 | Loss: 0.5447 | Loss_x: 0.5000 | Loss_u: 0.0165 | W: 2.7124\n",
            "(176/1024) Data: 0.164s | Batch: 0.777s | Total: 0:02:16 | ETA: 0:00:00 | Loss: 0.5450 | Loss_x: 0.5002 | Loss_u: 0.0166 | W: 2.7136\n",
            "(177/1024) Data: 0.164s | Batch: 0.777s | Total: 0:02:17 | ETA: 0:00:00 | Loss: 0.5457 | Loss_x: 0.5009 | Loss_u: 0.0165 | W: 2.7148\n",
            "(178/1024) Data: 0.163s | Batch: 0.777s | Total: 0:02:18 | ETA: 0:00:00 | Loss: 0.5460 | Loss_x: 0.5013 | Loss_u: 0.0165 | W: 2.7161\n",
            "(179/1024) Data: 0.163s | Batch: 0.777s | Total: 0:02:19 | ETA: 0:00:00 | Loss: 0.5446 | Loss_x: 0.5000 | Loss_u: 0.0165 | W: 2.7173\n",
            "(180/1024) Data: 0.163s | Batch: 0.777s | Total: 0:02:19 | ETA: 0:00:00 | Loss: 0.5426 | Loss_x: 0.4979 | Loss_u: 0.0165 | W: 2.7185\n",
            "(181/1024) Data: 0.163s | Batch: 0.777s | Total: 0:02:20 | ETA: 0:00:00 | Loss: 0.5418 | Loss_x: 0.4972 | Loss_u: 0.0164 | W: 2.7197\n",
            "(182/1024) Data: 0.163s | Batch: 0.777s | Total: 0:02:21 | ETA: 0:00:00 | Loss: 0.5423 | Loss_x: 0.4976 | Loss_u: 0.0165 | W: 2.7209\n",
            "(183/1024) Data: 0.163s | Batch: 0.777s | Total: 0:02:22 | ETA: 0:00:00 | Loss: 0.5426 | Loss_x: 0.4978 | Loss_u: 0.0165 | W: 2.7222\n",
            "(184/1024) Data: 0.163s | Batch: 0.777s | Total: 0:02:22 | ETA: 0:00:00 | Loss: 0.5405 | Loss_x: 0.4958 | Loss_u: 0.0165 | W: 2.7234\n",
            "(185/1024) Data: 0.163s | Batch: 0.777s | Total: 0:02:23 | ETA: 0:00:00 | Loss: 0.5401 | Loss_x: 0.4955 | Loss_u: 0.0164 | W: 2.7246\n",
            "(186/1024) Data: 0.163s | Batch: 0.777s | Total: 0:02:24 | ETA: 0:00:00 | Loss: 0.5384 | Loss_x: 0.4938 | Loss_u: 0.0164 | W: 2.7258\n",
            "(187/1024) Data: 0.163s | Batch: 0.777s | Total: 0:02:25 | ETA: 0:00:00 | Loss: 0.5394 | Loss_x: 0.4948 | Loss_u: 0.0164 | W: 2.7271\n",
            "(188/1024) Data: 0.163s | Batch: 0.777s | Total: 0:02:26 | ETA: 0:00:00 | Loss: 0.5390 | Loss_x: 0.4945 | Loss_u: 0.0164 | W: 2.7283\n",
            "(189/1024) Data: 0.163s | Batch: 0.777s | Total: 0:02:26 | ETA: 0:00:00 | Loss: 0.5392 | Loss_x: 0.4946 | Loss_u: 0.0164 | W: 2.7295\n",
            "(190/1024) Data: 0.163s | Batch: 0.777s | Total: 0:02:27 | ETA: 0:00:00 | Loss: 0.5375 | Loss_x: 0.4928 | Loss_u: 0.0164 | W: 2.7307\n",
            "(191/1024) Data: 0.163s | Batch: 0.777s | Total: 0:02:28 | ETA: 0:00:00 | Loss: 0.5365 | Loss_x: 0.4920 | Loss_u: 0.0164 | W: 2.7319\n",
            "(192/1024) Data: 0.163s | Batch: 0.777s | Total: 0:02:29 | ETA: 0:00:00 | Loss: 0.5361 | Loss_x: 0.4916 | Loss_u: 0.0163 | W: 2.7332\n",
            "(193/1024) Data: 0.163s | Batch: 0.777s | Total: 0:02:29 | ETA: 0:00:00 | Loss: 0.5358 | Loss_x: 0.4915 | Loss_u: 0.0163 | W: 2.7344\n",
            "(194/1024) Data: 0.163s | Batch: 0.777s | Total: 0:02:30 | ETA: 0:00:00 | Loss: 0.5350 | Loss_x: 0.4908 | Loss_u: 0.0162 | W: 2.7356\n",
            "(195/1024) Data: 0.163s | Batch: 0.777s | Total: 0:02:31 | ETA: 0:00:00 | Loss: 0.5352 | Loss_x: 0.4910 | Loss_u: 0.0162 | W: 2.7368\n",
            "(196/1024) Data: 0.163s | Batch: 0.777s | Total: 0:02:32 | ETA: 0:00:00 | Loss: 0.5358 | Loss_x: 0.4916 | Loss_u: 0.0162 | W: 2.7380\n",
            "(197/1024) Data: 0.163s | Batch: 0.777s | Total: 0:02:33 | ETA: 0:00:00 | Loss: 0.5364 | Loss_x: 0.4918 | Loss_u: 0.0163 | W: 2.7393\n",
            "(198/1024) Data: 0.163s | Batch: 0.777s | Total: 0:02:33 | ETA: 0:00:00 | Loss: 0.5365 | Loss_x: 0.4919 | Loss_u: 0.0163 | W: 2.7405\n",
            "(199/1024) Data: 0.163s | Batch: 0.777s | Total: 0:02:34 | ETA: 0:00:00 | Loss: 0.5369 | Loss_x: 0.4923 | Loss_u: 0.0163 | W: 2.7417\n",
            "(200/1024) Data: 0.163s | Batch: 0.780s | Total: 0:02:36 | ETA: 0:00:00 | Loss: 0.5372 | Loss_x: 0.4925 | Loss_u: 0.0163 | W: 2.7429\n",
            "(201/1024) Data: 0.163s | Batch: 0.780s | Total: 0:02:36 | ETA: 0:00:00 | Loss: 0.5361 | Loss_x: 0.4915 | Loss_u: 0.0163 | W: 2.7441\n",
            "(202/1024) Data: 0.163s | Batch: 0.780s | Total: 0:02:37 | ETA: 0:00:00 | Loss: 0.5365 | Loss_x: 0.4919 | Loss_u: 0.0163 | W: 2.7454\n",
            "(203/1024) Data: 0.163s | Batch: 0.780s | Total: 0:02:38 | ETA: 0:00:00 | Loss: 0.5360 | Loss_x: 0.4913 | Loss_u: 0.0163 | W: 2.7466\n",
            "(204/1024) Data: 0.163s | Batch: 0.780s | Total: 0:02:39 | ETA: 0:00:00 | Loss: 0.5373 | Loss_x: 0.4925 | Loss_u: 0.0164 | W: 2.7478\n",
            "(205/1024) Data: 0.163s | Batch: 0.780s | Total: 0:02:39 | ETA: 0:00:00 | Loss: 0.5355 | Loss_x: 0.4908 | Loss_u: 0.0163 | W: 2.7490\n",
            "(206/1024) Data: 0.163s | Batch: 0.780s | Total: 0:02:40 | ETA: 0:00:00 | Loss: 0.5357 | Loss_x: 0.4911 | Loss_u: 0.0163 | W: 2.7502\n",
            "(207/1024) Data: 0.163s | Batch: 0.780s | Total: 0:02:41 | ETA: 0:00:00 | Loss: 0.5337 | Loss_x: 0.4892 | Loss_u: 0.0162 | W: 2.7515\n",
            "(208/1024) Data: 0.163s | Batch: 0.780s | Total: 0:02:42 | ETA: 0:00:00 | Loss: 0.5336 | Loss_x: 0.4892 | Loss_u: 0.0162 | W: 2.7527\n",
            "(209/1024) Data: 0.163s | Batch: 0.780s | Total: 0:02:43 | ETA: 0:00:00 | Loss: 0.5323 | Loss_x: 0.4880 | Loss_u: 0.0162 | W: 2.7539\n",
            "(210/1024) Data: 0.163s | Batch: 0.780s | Total: 0:02:43 | ETA: 0:00:00 | Loss: 0.5310 | Loss_x: 0.4867 | Loss_u: 0.0162 | W: 2.7551\n",
            "(211/1024) Data: 0.163s | Batch: 0.780s | Total: 0:02:44 | ETA: 0:00:00 | Loss: 0.5300 | Loss_x: 0.4858 | Loss_u: 0.0161 | W: 2.7563\n",
            "(212/1024) Data: 0.163s | Batch: 0.780s | Total: 0:02:45 | ETA: 0:00:00 | Loss: 0.5288 | Loss_x: 0.4849 | Loss_u: 0.0160 | W: 2.7576\n",
            "(213/1024) Data: 0.163s | Batch: 0.780s | Total: 0:02:46 | ETA: 0:00:00 | Loss: 0.5289 | Loss_x: 0.4849 | Loss_u: 0.0160 | W: 2.7588\n",
            "(214/1024) Data: 0.163s | Batch: 0.780s | Total: 0:02:46 | ETA: 0:00:00 | Loss: 0.5278 | Loss_x: 0.4839 | Loss_u: 0.0160 | W: 2.7600\n",
            "(215/1024) Data: 0.163s | Batch: 0.780s | Total: 0:02:47 | ETA: 0:00:00 | Loss: 0.5294 | Loss_x: 0.4852 | Loss_u: 0.0161 | W: 2.7612\n",
            "(216/1024) Data: 0.163s | Batch: 0.780s | Total: 0:02:48 | ETA: 0:00:00 | Loss: 0.5281 | Loss_x: 0.4841 | Loss_u: 0.0160 | W: 2.7625\n",
            "(217/1024) Data: 0.163s | Batch: 0.780s | Total: 0:02:49 | ETA: 0:00:00 | Loss: 0.5282 | Loss_x: 0.4842 | Loss_u: 0.0160 | W: 2.7637\n",
            "(218/1024) Data: 0.163s | Batch: 0.780s | Total: 0:02:50 | ETA: 0:00:00 | Loss: 0.5276 | Loss_x: 0.4837 | Loss_u: 0.0160 | W: 2.7649\n",
            "(219/1024) Data: 0.163s | Batch: 0.780s | Total: 0:02:50 | ETA: 0:00:00 | Loss: 0.5256 | Loss_x: 0.4818 | Loss_u: 0.0159 | W: 2.7661\n",
            "(220/1024) Data: 0.163s | Batch: 0.780s | Total: 0:02:51 | ETA: 0:00:00 | Loss: 0.5244 | Loss_x: 0.4807 | Loss_u: 0.0159 | W: 2.7673\n",
            "(221/1024) Data: 0.163s | Batch: 0.780s | Total: 0:02:52 | ETA: 0:00:00 | Loss: 0.5246 | Loss_x: 0.4809 | Loss_u: 0.0159 | W: 2.7686\n",
            "(222/1024) Data: 0.163s | Batch: 0.780s | Total: 0:02:53 | ETA: 0:00:00 | Loss: 0.5248 | Loss_x: 0.4812 | Loss_u: 0.0158 | W: 2.7698\n",
            "(223/1024) Data: 0.163s | Batch: 0.780s | Total: 0:02:53 | ETA: 0:00:00 | Loss: 0.5240 | Loss_x: 0.4805 | Loss_u: 0.0158 | W: 2.7710\n",
            "(224/1024) Data: 0.163s | Batch: 0.780s | Total: 0:02:54 | ETA: 0:00:00 | Loss: 0.5249 | Loss_x: 0.4814 | Loss_u: 0.0158 | W: 2.7722\n",
            "(225/1024) Data: 0.163s | Batch: 0.780s | Total: 0:02:55 | ETA: 0:00:00 | Loss: 0.5233 | Loss_x: 0.4800 | Loss_u: 0.0157 | W: 2.7734\n",
            "(226/1024) Data: 0.163s | Batch: 0.780s | Total: 0:02:56 | ETA: 0:00:00 | Loss: 0.5240 | Loss_x: 0.4806 | Loss_u: 0.0158 | W: 2.7747\n",
            "(227/1024) Data: 0.163s | Batch: 0.780s | Total: 0:02:57 | ETA: 0:00:00 | Loss: 0.5234 | Loss_x: 0.4801 | Loss_u: 0.0157 | W: 2.7759\n",
            "(228/1024) Data: 0.163s | Batch: 0.780s | Total: 0:02:57 | ETA: 0:00:00 | Loss: 0.5235 | Loss_x: 0.4803 | Loss_u: 0.0157 | W: 2.7771\n",
            "(229/1024) Data: 0.163s | Batch: 0.780s | Total: 0:02:58 | ETA: 0:00:00 | Loss: 0.5240 | Loss_x: 0.4807 | Loss_u: 0.0157 | W: 2.7783\n",
            "(230/1024) Data: 0.163s | Batch: 0.780s | Total: 0:02:59 | ETA: 0:00:00 | Loss: 0.5226 | Loss_x: 0.4794 | Loss_u: 0.0157 | W: 2.7795\n",
            "(231/1024) Data: 0.163s | Batch: 0.780s | Total: 0:03:00 | ETA: 0:00:00 | Loss: 0.5209 | Loss_x: 0.4777 | Loss_u: 0.0156 | W: 2.7808\n",
            "(232/1024) Data: 0.163s | Batch: 0.780s | Total: 0:03:00 | ETA: 0:00:00 | Loss: 0.5194 | Loss_x: 0.4764 | Loss_u: 0.0156 | W: 2.7820\n",
            "(233/1024) Data: 0.163s | Batch: 0.780s | Total: 0:03:01 | ETA: 0:00:00 | Loss: 0.5186 | Loss_x: 0.4757 | Loss_u: 0.0155 | W: 2.7832\n",
            "(234/1024) Data: 0.163s | Batch: 0.780s | Total: 0:03:02 | ETA: 0:00:00 | Loss: 0.5195 | Loss_x: 0.4766 | Loss_u: 0.0155 | W: 2.7844\n",
            "(235/1024) Data: 0.163s | Batch: 0.780s | Total: 0:03:03 | ETA: 0:00:00 | Loss: 0.5198 | Loss_x: 0.4767 | Loss_u: 0.0156 | W: 2.7856\n",
            "(236/1024) Data: 0.163s | Batch: 0.780s | Total: 0:03:04 | ETA: 0:00:00 | Loss: 0.5199 | Loss_x: 0.4767 | Loss_u: 0.0156 | W: 2.7869\n",
            "(237/1024) Data: 0.163s | Batch: 0.780s | Total: 0:03:04 | ETA: 0:00:00 | Loss: 0.5212 | Loss_x: 0.4778 | Loss_u: 0.0157 | W: 2.7881\n",
            "(238/1024) Data: 0.163s | Batch: 0.780s | Total: 0:03:05 | ETA: 0:00:00 | Loss: 0.5222 | Loss_x: 0.4786 | Loss_u: 0.0157 | W: 2.7893\n",
            "(239/1024) Data: 0.163s | Batch: 0.780s | Total: 0:03:06 | ETA: 0:00:00 | Loss: 0.5224 | Loss_x: 0.4789 | Loss_u: 0.0157 | W: 2.7905\n",
            "(240/1024) Data: 0.163s | Batch: 0.780s | Total: 0:03:07 | ETA: 0:00:00 | Loss: 0.5229 | Loss_x: 0.4792 | Loss_u: 0.0157 | W: 2.7917\n",
            "(241/1024) Data: 0.163s | Batch: 0.780s | Total: 0:03:07 | ETA: 0:00:00 | Loss: 0.5225 | Loss_x: 0.4788 | Loss_u: 0.0157 | W: 2.7930\n",
            "(242/1024) Data: 0.163s | Batch: 0.780s | Total: 0:03:08 | ETA: 0:00:00 | Loss: 0.5230 | Loss_x: 0.4792 | Loss_u: 0.0157 | W: 2.7942\n",
            "(243/1024) Data: 0.163s | Batch: 0.780s | Total: 0:03:09 | ETA: 0:00:00 | Loss: 0.5213 | Loss_x: 0.4776 | Loss_u: 0.0157 | W: 2.7954\n",
            "(244/1024) Data: 0.163s | Batch: 0.780s | Total: 0:03:10 | ETA: 0:00:00 | Loss: 0.5219 | Loss_x: 0.4781 | Loss_u: 0.0158 | W: 2.7966\n",
            "(245/1024) Data: 0.163s | Batch: 0.780s | Total: 0:03:11 | ETA: 0:00:00 | Loss: 0.5220 | Loss_x: 0.4782 | Loss_u: 0.0158 | W: 2.7979\n",
            "(246/1024) Data: 0.163s | Batch: 0.780s | Total: 0:03:11 | ETA: 0:00:00 | Loss: 0.5224 | Loss_x: 0.4785 | Loss_u: 0.0158 | W: 2.7991\n",
            "(247/1024) Data: 0.163s | Batch: 0.780s | Total: 0:03:12 | ETA: 0:00:00 | Loss: 0.5231 | Loss_x: 0.4793 | Loss_u: 0.0157 | W: 2.8003\n",
            "(248/1024) Data: 0.163s | Batch: 0.780s | Total: 0:03:13 | ETA: 0:00:00 | Loss: 0.5215 | Loss_x: 0.4779 | Loss_u: 0.0157 | W: 2.8015\n",
            "(249/1024) Data: 0.163s | Batch: 0.780s | Total: 0:03:14 | ETA: 0:00:00 | Loss: 0.5216 | Loss_x: 0.4778 | Loss_u: 0.0157 | W: 2.8027\n",
            "(250/1024) Data: 0.163s | Batch: 0.780s | Total: 0:03:14 | ETA: 0:00:00 | Loss: 0.5206 | Loss_x: 0.4769 | Loss_u: 0.0157 | W: 2.8040\n",
            "(251/1024) Data: 0.163s | Batch: 0.780s | Total: 0:03:15 | ETA: 0:00:00 | Loss: 0.5215 | Loss_x: 0.4777 | Loss_u: 0.0157 | W: 2.8052\n",
            "(252/1024) Data: 0.163s | Batch: 0.780s | Total: 0:03:16 | ETA: 0:00:00 | Loss: 0.5214 | Loss_x: 0.4775 | Loss_u: 0.0157 | W: 2.8064\n",
            "(253/1024) Data: 0.163s | Batch: 0.780s | Total: 0:03:17 | ETA: 0:00:00 | Loss: 0.5215 | Loss_x: 0.4775 | Loss_u: 0.0158 | W: 2.8076\n",
            "(254/1024) Data: 0.163s | Batch: 0.780s | Total: 0:03:18 | ETA: 0:00:00 | Loss: 0.5221 | Loss_x: 0.4780 | Loss_u: 0.0158 | W: 2.8088\n",
            "(255/1024) Data: 0.163s | Batch: 0.780s | Total: 0:03:18 | ETA: 0:00:00 | Loss: 0.5207 | Loss_x: 0.4768 | Loss_u: 0.0157 | W: 2.8101\n",
            "(256/1024) Data: 0.163s | Batch: 0.780s | Total: 0:03:19 | ETA: 0:00:00 | Loss: 0.5215 | Loss_x: 0.4776 | Loss_u: 0.0157 | W: 2.8113\n",
            "(257/1024) Data: 0.163s | Batch: 0.780s | Total: 0:03:20 | ETA: 0:00:00 | Loss: 0.5214 | Loss_x: 0.4775 | Loss_u: 0.0157 | W: 2.8125\n",
            "(258/1024) Data: 0.163s | Batch: 0.780s | Total: 0:03:21 | ETA: 0:00:00 | Loss: 0.5216 | Loss_x: 0.4776 | Loss_u: 0.0157 | W: 2.8137\n",
            "(259/1024) Data: 0.163s | Batch: 0.780s | Total: 0:03:21 | ETA: 0:00:00 | Loss: 0.5206 | Loss_x: 0.4767 | Loss_u: 0.0157 | W: 2.8149\n",
            "(260/1024) Data: 0.163s | Batch: 0.780s | Total: 0:03:22 | ETA: 0:00:00 | Loss: 0.5200 | Loss_x: 0.4761 | Loss_u: 0.0157 | W: 2.8162\n",
            "(261/1024) Data: 0.163s | Batch: 0.780s | Total: 0:03:23 | ETA: 0:00:00 | Loss: 0.5196 | Loss_x: 0.4759 | Loss_u: 0.0156 | W: 2.8174\n",
            "(262/1024) Data: 0.163s | Batch: 0.780s | Total: 0:03:24 | ETA: 0:00:00 | Loss: 0.5193 | Loss_x: 0.4757 | Loss_u: 0.0156 | W: 2.8186\n",
            "(263/1024) Data: 0.163s | Batch: 0.780s | Total: 0:03:25 | ETA: 0:00:00 | Loss: 0.5208 | Loss_x: 0.4771 | Loss_u: 0.0156 | W: 2.8198\n",
            "(264/1024) Data: 0.163s | Batch: 0.780s | Total: 0:03:25 | ETA: 0:00:00 | Loss: 0.5197 | Loss_x: 0.4762 | Loss_u: 0.0156 | W: 2.8210\n",
            "(265/1024) Data: 0.163s | Batch: 0.780s | Total: 0:03:26 | ETA: 0:00:00 | Loss: 0.5196 | Loss_x: 0.4761 | Loss_u: 0.0155 | W: 2.8223\n",
            "(266/1024) Data: 0.163s | Batch: 0.780s | Total: 0:03:27 | ETA: 0:00:00 | Loss: 0.5200 | Loss_x: 0.4765 | Loss_u: 0.0155 | W: 2.8235\n",
            "(267/1024) Data: 0.163s | Batch: 0.780s | Total: 0:03:28 | ETA: 0:00:00 | Loss: 0.5190 | Loss_x: 0.4755 | Loss_u: 0.0155 | W: 2.8247\n",
            "(268/1024) Data: 0.163s | Batch: 0.780s | Total: 0:03:28 | ETA: 0:00:00 | Loss: 0.5198 | Loss_x: 0.4762 | Loss_u: 0.0155 | W: 2.8259\n",
            "(269/1024) Data: 0.163s | Batch: 0.780s | Total: 0:03:29 | ETA: 0:00:00 | Loss: 0.5188 | Loss_x: 0.4752 | Loss_u: 0.0155 | W: 2.8271\n",
            "(270/1024) Data: 0.163s | Batch: 0.780s | Total: 0:03:30 | ETA: 0:00:00 | Loss: 0.5193 | Loss_x: 0.4756 | Loss_u: 0.0156 | W: 2.8284\n",
            "(271/1024) Data: 0.163s | Batch: 0.780s | Total: 0:03:31 | ETA: 0:00:00 | Loss: 0.5203 | Loss_x: 0.4765 | Loss_u: 0.0156 | W: 2.8296\n",
            "(272/1024) Data: 0.163s | Batch: 0.780s | Total: 0:03:32 | ETA: 0:00:00 | Loss: 0.5200 | Loss_x: 0.4762 | Loss_u: 0.0156 | W: 2.8308\n",
            "(273/1024) Data: 0.163s | Batch: 0.780s | Total: 0:03:32 | ETA: 0:00:00 | Loss: 0.5207 | Loss_x: 0.4770 | Loss_u: 0.0156 | W: 2.8320\n",
            "(274/1024) Data: 0.163s | Batch: 0.780s | Total: 0:03:33 | ETA: 0:00:00 | Loss: 0.5203 | Loss_x: 0.4764 | Loss_u: 0.0156 | W: 2.8333\n",
            "(275/1024) Data: 0.163s | Batch: 0.780s | Total: 0:03:34 | ETA: 0:00:00 | Loss: 0.5208 | Loss_x: 0.4769 | Loss_u: 0.0156 | W: 2.8345\n",
            "(276/1024) Data: 0.163s | Batch: 0.780s | Total: 0:03:35 | ETA: 0:00:00 | Loss: 0.5205 | Loss_x: 0.4765 | Loss_u: 0.0156 | W: 2.8357\n",
            "(277/1024) Data: 0.163s | Batch: 0.780s | Total: 0:03:35 | ETA: 0:00:00 | Loss: 0.5206 | Loss_x: 0.4767 | Loss_u: 0.0156 | W: 2.8369\n",
            "(278/1024) Data: 0.163s | Batch: 0.780s | Total: 0:03:36 | ETA: 0:00:00 | Loss: 0.5215 | Loss_x: 0.4774 | Loss_u: 0.0156 | W: 2.8381\n",
            "(279/1024) Data: 0.163s | Batch: 0.780s | Total: 0:03:37 | ETA: 0:00:00 | Loss: 0.5205 | Loss_x: 0.4766 | Loss_u: 0.0156 | W: 2.8394\n",
            "(280/1024) Data: 0.163s | Batch: 0.780s | Total: 0:03:38 | ETA: 0:00:00 | Loss: 0.5195 | Loss_x: 0.4757 | Loss_u: 0.0155 | W: 2.8406\n",
            "(281/1024) Data: 0.163s | Batch: 0.780s | Total: 0:03:39 | ETA: 0:00:00 | Loss: 0.5198 | Loss_x: 0.4759 | Loss_u: 0.0155 | W: 2.8418\n",
            "(282/1024) Data: 0.163s | Batch: 0.780s | Total: 0:03:39 | ETA: 0:00:00 | Loss: 0.5197 | Loss_x: 0.4759 | Loss_u: 0.0155 | W: 2.8430\n",
            "(283/1024) Data: 0.163s | Batch: 0.780s | Total: 0:03:40 | ETA: 0:00:00 | Loss: 0.5201 | Loss_x: 0.4762 | Loss_u: 0.0155 | W: 2.8442\n",
            "(284/1024) Data: 0.163s | Batch: 0.780s | Total: 0:03:41 | ETA: 0:00:00 | Loss: 0.5189 | Loss_x: 0.4751 | Loss_u: 0.0155 | W: 2.8455\n",
            "(285/1024) Data: 0.163s | Batch: 0.780s | Total: 0:03:42 | ETA: 0:00:00 | Loss: 0.5189 | Loss_x: 0.4752 | Loss_u: 0.0155 | W: 2.8467\n",
            "(286/1024) Data: 0.163s | Batch: 0.780s | Total: 0:03:42 | ETA: 0:00:00 | Loss: 0.5197 | Loss_x: 0.4758 | Loss_u: 0.0155 | W: 2.8479\n",
            "(287/1024) Data: 0.163s | Batch: 0.780s | Total: 0:03:43 | ETA: 0:00:00 | Loss: 0.5188 | Loss_x: 0.4751 | Loss_u: 0.0155 | W: 2.8491\n",
            "(288/1024) Data: 0.163s | Batch: 0.780s | Total: 0:03:44 | ETA: 0:00:00 | Loss: 0.5192 | Loss_x: 0.4754 | Loss_u: 0.0155 | W: 2.8503\n",
            "(289/1024) Data: 0.163s | Batch: 0.780s | Total: 0:03:45 | ETA: 0:00:00 | Loss: 0.5180 | Loss_x: 0.4742 | Loss_u: 0.0155 | W: 2.8516\n",
            "(290/1024) Data: 0.163s | Batch: 0.780s | Total: 0:03:46 | ETA: 0:00:00 | Loss: 0.5193 | Loss_x: 0.4755 | Loss_u: 0.0155 | W: 2.8528\n"
          ],
          "name": "stdout"
        }
      ]
    },
    {
      "cell_type": "code",
      "metadata": {
        "id": "eKHYywwZvywz"
      },
      "source": [
        ""
      ],
      "execution_count": null,
      "outputs": []
    }
  ]
}